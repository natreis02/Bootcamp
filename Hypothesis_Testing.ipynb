{
  "nbformat": 4,
  "nbformat_minor": 0,
  "metadata": {
    "colab": {
      "provenance": [],
      "authorship_tag": "ABX9TyMKpzYGOCtmbhKLrSjWLYfK",
      "include_colab_link": true
    },
    "kernelspec": {
      "name": "python3",
      "display_name": "Python 3"
    },
    "language_info": {
      "name": "python"
    }
  },
  "cells": [
    {
      "cell_type": "markdown",
      "metadata": {
        "id": "view-in-github",
        "colab_type": "text"
      },
      "source": [
        "<a href=\"https://colab.research.google.com/github/natreis02/Data_Analytic/blob/main/Hypothesis_Testing.ipynb\" target=\"_parent\"><img src=\"https://colab.research.google.com/assets/colab-badge.svg\" alt=\"Open In Colab\"/></a>"
      ]
    },
    {
      "cell_type": "markdown",
      "source": [
        "**Atividade sobre Estatística**"
      ],
      "metadata": {
        "id": "eAkoZKFprnpy"
      }
    },
    {
      "cell_type": "markdown",
      "source": [
        "Considerando a base de dados experimento_test_ab.csv responda as questões abaixo:\n"
      ],
      "metadata": {
        "id": "ap-AFnX0riIP"
      }
    },
    {
      "cell_type": "markdown",
      "source": [
        "1) Qual dos cenários tem a maior taxa de conversão?\n"
      ],
      "metadata": {
        "id": "i_F2TATarmhN"
      }
    },
    {
      "cell_type": "code",
      "source": [
        "from google.colab import files\n",
        "import pandas as pd\n",
        "\n",
        "# Faça o upload do arquivo CSV\n",
        "uploaded = files.upload()\n",
        "\n",
        "# Leia o arquivo CSV em um DataFrame do Pandas\n",
        "df = pd.read_csv(next(iter(uploaded)))\n",
        "\n",
        "# Exiba as primeiras linhas do DataFrame para verificar se o arquivo foi carregado corretamente\n",
        "print(df.head())\n"
      ],
      "metadata": {
        "colab": {
          "base_uri": "https://localhost:8080/",
          "height": 182
        },
        "id": "nyWmC5eNvM4B",
        "outputId": "706b25da-9768-4963-9080-68a57130fce8"
      },
      "execution_count": null,
      "outputs": [
        {
          "output_type": "display_data",
          "data": {
            "text/plain": [
              "<IPython.core.display.HTML object>"
            ],
            "text/html": [
              "\n",
              "     <input type=\"file\" id=\"files-dab7c051-3c6a-42cc-809f-0a0ce4ddcda4\" name=\"files[]\" multiple disabled\n",
              "        style=\"border:none\" />\n",
              "     <output id=\"result-dab7c051-3c6a-42cc-809f-0a0ce4ddcda4\">\n",
              "      Upload widget is only available when the cell has been executed in the\n",
              "      current browser session. Please rerun this cell to enable.\n",
              "      </output>\n",
              "      <script>// Copyright 2017 Google LLC\n",
              "//\n",
              "// Licensed under the Apache License, Version 2.0 (the \"License\");\n",
              "// you may not use this file except in compliance with the License.\n",
              "// You may obtain a copy of the License at\n",
              "//\n",
              "//      http://www.apache.org/licenses/LICENSE-2.0\n",
              "//\n",
              "// Unless required by applicable law or agreed to in writing, software\n",
              "// distributed under the License is distributed on an \"AS IS\" BASIS,\n",
              "// WITHOUT WARRANTIES OR CONDITIONS OF ANY KIND, either express or implied.\n",
              "// See the License for the specific language governing permissions and\n",
              "// limitations under the License.\n",
              "\n",
              "/**\n",
              " * @fileoverview Helpers for google.colab Python module.\n",
              " */\n",
              "(function(scope) {\n",
              "function span(text, styleAttributes = {}) {\n",
              "  const element = document.createElement('span');\n",
              "  element.textContent = text;\n",
              "  for (const key of Object.keys(styleAttributes)) {\n",
              "    element.style[key] = styleAttributes[key];\n",
              "  }\n",
              "  return element;\n",
              "}\n",
              "\n",
              "// Max number of bytes which will be uploaded at a time.\n",
              "const MAX_PAYLOAD_SIZE = 100 * 1024;\n",
              "\n",
              "function _uploadFiles(inputId, outputId) {\n",
              "  const steps = uploadFilesStep(inputId, outputId);\n",
              "  const outputElement = document.getElementById(outputId);\n",
              "  // Cache steps on the outputElement to make it available for the next call\n",
              "  // to uploadFilesContinue from Python.\n",
              "  outputElement.steps = steps;\n",
              "\n",
              "  return _uploadFilesContinue(outputId);\n",
              "}\n",
              "\n",
              "// This is roughly an async generator (not supported in the browser yet),\n",
              "// where there are multiple asynchronous steps and the Python side is going\n",
              "// to poll for completion of each step.\n",
              "// This uses a Promise to block the python side on completion of each step,\n",
              "// then passes the result of the previous step as the input to the next step.\n",
              "function _uploadFilesContinue(outputId) {\n",
              "  const outputElement = document.getElementById(outputId);\n",
              "  const steps = outputElement.steps;\n",
              "\n",
              "  const next = steps.next(outputElement.lastPromiseValue);\n",
              "  return Promise.resolve(next.value.promise).then((value) => {\n",
              "    // Cache the last promise value to make it available to the next\n",
              "    // step of the generator.\n",
              "    outputElement.lastPromiseValue = value;\n",
              "    return next.value.response;\n",
              "  });\n",
              "}\n",
              "\n",
              "/**\n",
              " * Generator function which is called between each async step of the upload\n",
              " * process.\n",
              " * @param {string} inputId Element ID of the input file picker element.\n",
              " * @param {string} outputId Element ID of the output display.\n",
              " * @return {!Iterable<!Object>} Iterable of next steps.\n",
              " */\n",
              "function* uploadFilesStep(inputId, outputId) {\n",
              "  const inputElement = document.getElementById(inputId);\n",
              "  inputElement.disabled = false;\n",
              "\n",
              "  const outputElement = document.getElementById(outputId);\n",
              "  outputElement.innerHTML = '';\n",
              "\n",
              "  const pickedPromise = new Promise((resolve) => {\n",
              "    inputElement.addEventListener('change', (e) => {\n",
              "      resolve(e.target.files);\n",
              "    });\n",
              "  });\n",
              "\n",
              "  const cancel = document.createElement('button');\n",
              "  inputElement.parentElement.appendChild(cancel);\n",
              "  cancel.textContent = 'Cancel upload';\n",
              "  const cancelPromise = new Promise((resolve) => {\n",
              "    cancel.onclick = () => {\n",
              "      resolve(null);\n",
              "    };\n",
              "  });\n",
              "\n",
              "  // Wait for the user to pick the files.\n",
              "  const files = yield {\n",
              "    promise: Promise.race([pickedPromise, cancelPromise]),\n",
              "    response: {\n",
              "      action: 'starting',\n",
              "    }\n",
              "  };\n",
              "\n",
              "  cancel.remove();\n",
              "\n",
              "  // Disable the input element since further picks are not allowed.\n",
              "  inputElement.disabled = true;\n",
              "\n",
              "  if (!files) {\n",
              "    return {\n",
              "      response: {\n",
              "        action: 'complete',\n",
              "      }\n",
              "    };\n",
              "  }\n",
              "\n",
              "  for (const file of files) {\n",
              "    const li = document.createElement('li');\n",
              "    li.append(span(file.name, {fontWeight: 'bold'}));\n",
              "    li.append(span(\n",
              "        `(${file.type || 'n/a'}) - ${file.size} bytes, ` +\n",
              "        `last modified: ${\n",
              "            file.lastModifiedDate ? file.lastModifiedDate.toLocaleDateString() :\n",
              "                                    'n/a'} - `));\n",
              "    const percent = span('0% done');\n",
              "    li.appendChild(percent);\n",
              "\n",
              "    outputElement.appendChild(li);\n",
              "\n",
              "    const fileDataPromise = new Promise((resolve) => {\n",
              "      const reader = new FileReader();\n",
              "      reader.onload = (e) => {\n",
              "        resolve(e.target.result);\n",
              "      };\n",
              "      reader.readAsArrayBuffer(file);\n",
              "    });\n",
              "    // Wait for the data to be ready.\n",
              "    let fileData = yield {\n",
              "      promise: fileDataPromise,\n",
              "      response: {\n",
              "        action: 'continue',\n",
              "      }\n",
              "    };\n",
              "\n",
              "    // Use a chunked sending to avoid message size limits. See b/62115660.\n",
              "    let position = 0;\n",
              "    do {\n",
              "      const length = Math.min(fileData.byteLength - position, MAX_PAYLOAD_SIZE);\n",
              "      const chunk = new Uint8Array(fileData, position, length);\n",
              "      position += length;\n",
              "\n",
              "      const base64 = btoa(String.fromCharCode.apply(null, chunk));\n",
              "      yield {\n",
              "        response: {\n",
              "          action: 'append',\n",
              "          file: file.name,\n",
              "          data: base64,\n",
              "        },\n",
              "      };\n",
              "\n",
              "      let percentDone = fileData.byteLength === 0 ?\n",
              "          100 :\n",
              "          Math.round((position / fileData.byteLength) * 100);\n",
              "      percent.textContent = `${percentDone}% done`;\n",
              "\n",
              "    } while (position < fileData.byteLength);\n",
              "  }\n",
              "\n",
              "  // All done.\n",
              "  yield {\n",
              "    response: {\n",
              "      action: 'complete',\n",
              "    }\n",
              "  };\n",
              "}\n",
              "\n",
              "scope.google = scope.google || {};\n",
              "scope.google.colab = scope.google.colab || {};\n",
              "scope.google.colab._files = {\n",
              "  _uploadFiles,\n",
              "  _uploadFilesContinue,\n",
              "};\n",
              "})(self);\n",
              "</script> "
            ]
          },
          "metadata": {}
        },
        {
          "output_type": "stream",
          "name": "stdout",
          "text": [
            "Saving experimento_teste_ab (1).csv to experimento_teste_ab (1) (1).csv\n",
            "   Visitante_ID Versão_Página  Visualizações  Conversões\n",
            "0             1             A            167           1\n",
            "1             2             A            160           0\n",
            "2             3             A            170           0\n",
            "3             4             A            161           1\n",
            "4             5             A            104           0\n"
          ]
        }
      ]
    },
    {
      "cell_type": "code",
      "execution_count": null,
      "metadata": {
        "id": "uajI_o07rYNl",
        "outputId": "d027165e-2a45-4efb-e98a-a413ec595807",
        "colab": {
          "base_uri": "https://localhost:8080/"
        }
      },
      "outputs": [
        {
          "output_type": "stream",
          "name": "stdout",
          "text": [
            "O cenário com a maior taxa de conversão é:\n",
            "     Visitante_ID Versão_Página  Visualizações  Conversões  Taxa_Conversão\n",
            "825           826             A            100           1            0.01\n"
          ]
        }
      ],
      "source": [
        "import pandas as pd\n",
        "\n",
        "# Carregar o arquivo CSV para um DataFrame\n",
        "df = pd.read_csv(\"experimento_teste_ab (1).csv\")\n",
        "\n",
        "# Calcular a taxa de conversão para cada cenário\n",
        "df['Taxa_Conversão'] = df['Conversões'] / df['Visualizações']\n",
        "\n",
        "# Encontrar o cenário com a maior taxa de conversão\n",
        "maior_taxa_conversao = df[df['Taxa_Conversão'] == df['Taxa_Conversão'].max()]\n",
        "\n",
        "print(\"O cenário com a maior taxa de conversão é:\")\n",
        "print(maior_taxa_conversao)\n"
      ]
    },
    {
      "cell_type": "markdown",
      "source": [
        "2) Calcule qual o tamanho da amostra necessária para o desenvolvimento de um teste A/B, seguindo os seguintes critérios:\n",
        "- O cenário A, da base, como o inicial, que funciona hoje.\n",
        "- Considere 95% de confiança de que o efeito na conversão não foi aleatório com um nível de significância de 5% (alpha = 0,05).\n",
        "- Também considere 80% de certeza conseguir capturar o efeito da nova abordagem.\n",
        "- O aumento para 10% de conversão.\n"
      ],
      "metadata": {
        "id": "d_j6_VL3r4Td"
      }
    },
    {
      "cell_type": "code",
      "source": [
        "import statsmodels.stats.api as sms\n",
        "\n",
        "# Definir os parâmetros do teste\n",
        "baseline_conversion_rate = 0.1  # Taxa de conversão inicial (10%)\n",
        "desired_effect_size = 0.1  # Aumento para 10% de conversão\n",
        "confidence_level = 0.95  # Nível de confiança de 95%\n",
        "power = 0.8  # Poder estatístico de 80%\n",
        "alpha = 0.05  # Nível de significância de 5%\n",
        "\n",
        "# Calcular o tamanho da amostra\n",
        "effect_size = sms.proportion_effectsize(baseline_conversion_rate, baseline_conversion_rate + desired_effect_size)\n",
        "sample_size = sms.NormalIndPower().solve_power(effect_size, power=power, alpha=alpha, ratio=1, alternative='larger')\n",
        "\n",
        "print(\"Tamanho da amostra:\", round(sample_size[0]))\n"
      ],
      "metadata": {
        "id": "W9CPVL0MsErz",
        "colab": {
          "base_uri": "https://localhost:8080/"
        },
        "outputId": "b89de985-9176-4649-9630-4dc2084baa7d"
      },
      "execution_count": null,
      "outputs": [
        {
          "output_type": "stream",
          "name": "stdout",
          "text": [
            "Tamanho da amostra: 10\n"
          ]
        },
        {
          "output_type": "stream",
          "name": "stderr",
          "text": [
            "/usr/local/lib/python3.10/dist-packages/statsmodels/stats/power.py:525: ConvergenceWarning: \n",
            "Failed to converge on a solution.\n",
            "\n",
            "  warnings.warn(convergence_doc, ConvergenceWarning)\n"
          ]
        }
      ]
    },
    {
      "cell_type": "code",
      "source": [
        "import pandas as pd\n",
        "\n",
        "# Carregar o arquivo CSV para um DataFrame\n",
        "df = pd.read_csv(\"pacientes.csv\")"
      ],
      "metadata": {
        "id": "oifizTEGN7Xg"
      },
      "execution_count": null,
      "outputs": []
    },
    {
      "cell_type": "markdown",
      "source": [
        "Verifique a base pacientes.csv, os dados são fictícios. A sintetiza uma base de dados de um hospital que trata de pacientes com problemas cardíacos. Considere a base como a população, portanto as estatísticas da população são conhecidas. Responda as perguntas abaixo:\n"
      ],
      "metadata": {
        "id": "RfAV_oIEsGKl"
      }
    },
    {
      "cell_type": "markdown",
      "source": [
        "3) Considerando uma amostra de 45 números que representam o index do dataframe, índices= ([909, 751, 402, 400, 726, 39, 184, 269, 255, 769, 209, 715, 677, 381, 793, 697,  89, 280, 232, 756, 358,  36, 439, 768, 967, 699, 473, 222,  89, 639, 883, 558, 757,  84, 907, 895, 217, 224, 311, 348, 146, 505, 273, 957, 362]). Considerando essa amostra é possível dizer que a idade média das pessoas com problemas cardíacos é maior que 50 anos? Nível de significância igual a 5%."
      ],
      "metadata": {
        "id": "qmlHPi8KsOJd"
      }
    },
    {
      "cell_type": "code",
      "source": [
        "from google.colab import files\n",
        "import pandas as pd\n",
        "\n",
        "# Faça o upload do arquivo CSV\n",
        "uploaded = files.upload()\n",
        "\n",
        "# Leia o arquivo CSV em um DataFrame do Pandas\n",
        "df = pd.read_csv(next(iter(uploaded)))\n",
        "\n",
        "# Exiba as primeiras linhas do DataFrame para verificar se o arquivo foi carregado corretamente\n",
        "print(df.head())"
      ],
      "metadata": {
        "id": "unJjBvqMsQDA",
        "colab": {
          "base_uri": "https://localhost:8080/",
          "height": 310
        },
        "outputId": "5cb789b5-6e42-40a1-fd6a-47d5527bae50"
      },
      "execution_count": null,
      "outputs": [
        {
          "output_type": "display_data",
          "data": {
            "text/plain": [
              "<IPython.core.display.HTML object>"
            ],
            "text/html": [
              "\n",
              "     <input type=\"file\" id=\"files-b2e9c5d1-ff45-4bdf-8d31-98dd59410c95\" name=\"files[]\" multiple disabled\n",
              "        style=\"border:none\" />\n",
              "     <output id=\"result-b2e9c5d1-ff45-4bdf-8d31-98dd59410c95\">\n",
              "      Upload widget is only available when the cell has been executed in the\n",
              "      current browser session. Please rerun this cell to enable.\n",
              "      </output>\n",
              "      <script>// Copyright 2017 Google LLC\n",
              "//\n",
              "// Licensed under the Apache License, Version 2.0 (the \"License\");\n",
              "// you may not use this file except in compliance with the License.\n",
              "// You may obtain a copy of the License at\n",
              "//\n",
              "//      http://www.apache.org/licenses/LICENSE-2.0\n",
              "//\n",
              "// Unless required by applicable law or agreed to in writing, software\n",
              "// distributed under the License is distributed on an \"AS IS\" BASIS,\n",
              "// WITHOUT WARRANTIES OR CONDITIONS OF ANY KIND, either express or implied.\n",
              "// See the License for the specific language governing permissions and\n",
              "// limitations under the License.\n",
              "\n",
              "/**\n",
              " * @fileoverview Helpers for google.colab Python module.\n",
              " */\n",
              "(function(scope) {\n",
              "function span(text, styleAttributes = {}) {\n",
              "  const element = document.createElement('span');\n",
              "  element.textContent = text;\n",
              "  for (const key of Object.keys(styleAttributes)) {\n",
              "    element.style[key] = styleAttributes[key];\n",
              "  }\n",
              "  return element;\n",
              "}\n",
              "\n",
              "// Max number of bytes which will be uploaded at a time.\n",
              "const MAX_PAYLOAD_SIZE = 100 * 1024;\n",
              "\n",
              "function _uploadFiles(inputId, outputId) {\n",
              "  const steps = uploadFilesStep(inputId, outputId);\n",
              "  const outputElement = document.getElementById(outputId);\n",
              "  // Cache steps on the outputElement to make it available for the next call\n",
              "  // to uploadFilesContinue from Python.\n",
              "  outputElement.steps = steps;\n",
              "\n",
              "  return _uploadFilesContinue(outputId);\n",
              "}\n",
              "\n",
              "// This is roughly an async generator (not supported in the browser yet),\n",
              "// where there are multiple asynchronous steps and the Python side is going\n",
              "// to poll for completion of each step.\n",
              "// This uses a Promise to block the python side on completion of each step,\n",
              "// then passes the result of the previous step as the input to the next step.\n",
              "function _uploadFilesContinue(outputId) {\n",
              "  const outputElement = document.getElementById(outputId);\n",
              "  const steps = outputElement.steps;\n",
              "\n",
              "  const next = steps.next(outputElement.lastPromiseValue);\n",
              "  return Promise.resolve(next.value.promise).then((value) => {\n",
              "    // Cache the last promise value to make it available to the next\n",
              "    // step of the generator.\n",
              "    outputElement.lastPromiseValue = value;\n",
              "    return next.value.response;\n",
              "  });\n",
              "}\n",
              "\n",
              "/**\n",
              " * Generator function which is called between each async step of the upload\n",
              " * process.\n",
              " * @param {string} inputId Element ID of the input file picker element.\n",
              " * @param {string} outputId Element ID of the output display.\n",
              " * @return {!Iterable<!Object>} Iterable of next steps.\n",
              " */\n",
              "function* uploadFilesStep(inputId, outputId) {\n",
              "  const inputElement = document.getElementById(inputId);\n",
              "  inputElement.disabled = false;\n",
              "\n",
              "  const outputElement = document.getElementById(outputId);\n",
              "  outputElement.innerHTML = '';\n",
              "\n",
              "  const pickedPromise = new Promise((resolve) => {\n",
              "    inputElement.addEventListener('change', (e) => {\n",
              "      resolve(e.target.files);\n",
              "    });\n",
              "  });\n",
              "\n",
              "  const cancel = document.createElement('button');\n",
              "  inputElement.parentElement.appendChild(cancel);\n",
              "  cancel.textContent = 'Cancel upload';\n",
              "  const cancelPromise = new Promise((resolve) => {\n",
              "    cancel.onclick = () => {\n",
              "      resolve(null);\n",
              "    };\n",
              "  });\n",
              "\n",
              "  // Wait for the user to pick the files.\n",
              "  const files = yield {\n",
              "    promise: Promise.race([pickedPromise, cancelPromise]),\n",
              "    response: {\n",
              "      action: 'starting',\n",
              "    }\n",
              "  };\n",
              "\n",
              "  cancel.remove();\n",
              "\n",
              "  // Disable the input element since further picks are not allowed.\n",
              "  inputElement.disabled = true;\n",
              "\n",
              "  if (!files) {\n",
              "    return {\n",
              "      response: {\n",
              "        action: 'complete',\n",
              "      }\n",
              "    };\n",
              "  }\n",
              "\n",
              "  for (const file of files) {\n",
              "    const li = document.createElement('li');\n",
              "    li.append(span(file.name, {fontWeight: 'bold'}));\n",
              "    li.append(span(\n",
              "        `(${file.type || 'n/a'}) - ${file.size} bytes, ` +\n",
              "        `last modified: ${\n",
              "            file.lastModifiedDate ? file.lastModifiedDate.toLocaleDateString() :\n",
              "                                    'n/a'} - `));\n",
              "    const percent = span('0% done');\n",
              "    li.appendChild(percent);\n",
              "\n",
              "    outputElement.appendChild(li);\n",
              "\n",
              "    const fileDataPromise = new Promise((resolve) => {\n",
              "      const reader = new FileReader();\n",
              "      reader.onload = (e) => {\n",
              "        resolve(e.target.result);\n",
              "      };\n",
              "      reader.readAsArrayBuffer(file);\n",
              "    });\n",
              "    // Wait for the data to be ready.\n",
              "    let fileData = yield {\n",
              "      promise: fileDataPromise,\n",
              "      response: {\n",
              "        action: 'continue',\n",
              "      }\n",
              "    };\n",
              "\n",
              "    // Use a chunked sending to avoid message size limits. See b/62115660.\n",
              "    let position = 0;\n",
              "    do {\n",
              "      const length = Math.min(fileData.byteLength - position, MAX_PAYLOAD_SIZE);\n",
              "      const chunk = new Uint8Array(fileData, position, length);\n",
              "      position += length;\n",
              "\n",
              "      const base64 = btoa(String.fromCharCode.apply(null, chunk));\n",
              "      yield {\n",
              "        response: {\n",
              "          action: 'append',\n",
              "          file: file.name,\n",
              "          data: base64,\n",
              "        },\n",
              "      };\n",
              "\n",
              "      let percentDone = fileData.byteLength === 0 ?\n",
              "          100 :\n",
              "          Math.round((position / fileData.byteLength) * 100);\n",
              "      percent.textContent = `${percentDone}% done`;\n",
              "\n",
              "    } while (position < fileData.byteLength);\n",
              "  }\n",
              "\n",
              "  // All done.\n",
              "  yield {\n",
              "    response: {\n",
              "      action: 'complete',\n",
              "    }\n",
              "  };\n",
              "}\n",
              "\n",
              "scope.google = scope.google || {};\n",
              "scope.google.colab = scope.google.colab || {};\n",
              "scope.google.colab._files = {\n",
              "  _uploadFiles,\n",
              "  _uploadFilesContinue,\n",
              "};\n",
              "})(self);\n",
              "</script> "
            ]
          },
          "metadata": {}
        },
        {
          "output_type": "stream",
          "name": "stdout",
          "text": [
            "Saving pacientes.csv to pacientes.csv\n",
            "   Unnamed: 0  Pressao_Arterial  Idade  Genero  Etnia  Estado_Saude  \\\n",
            "0           0        142.755809     31       1      1             1   \n",
            "1           1        161.878468     35       1      1             0   \n",
            "2           2        161.508259     39       0      3             1   \n",
            "3           3        144.979408     43       1      3             1   \n",
            "4           4        162.502954     55       0      2             1   \n",
            "\n",
            "  Nome_Genero      Nome_Etnia                  Nome_Estado_Saude  \n",
            "0    Feminino  Afro-americano  Com condições de saúde adicionais  \n",
            "1    Feminino  Afro-americano                           Saudável  \n",
            "2   Masculino        Asiático  Com condições de saúde adicionais  \n",
            "3    Feminino        Asiático  Com condições de saúde adicionais  \n",
            "4   Masculino       Hispânico  Com condições de saúde adicionais  \n"
          ]
        }
      ]
    },
    {
      "cell_type": "code",
      "source": [
        "import pandas as pd\n",
        "\n",
        "# Carregar o conjunto de dados\n",
        "df = pd.read_csv(\"pacientes.csv\")\n",
        "\n",
        "# Amostra de índices\n",
        "indices = [909, 751, 402, 400, 726, 39, 184, 269, 255, 769, 209, 715, 677, 381, 793, 697, 89, 280, 232, 756, 358, 36, 439, 768, 967, 699, 473, 222, 89, 639, 883, 558, 757, 84, 907, 895, 217, 224, 311, 348, 146, 505, 273, 957, 362]\n",
        "\n",
        "# Filtrar pacientes com problemas cardíacos e calcular idade média\n",
        "idade_pacientes_com_problemas_cardiacos = df.loc[indices, 'Idade'].mean()\n",
        "\n",
        "print(\"Idade média dos pacientes com problemas cardíacos:\", idade_pacientes_com_problemas_cardiacos)\n"
      ],
      "metadata": {
        "colab": {
          "base_uri": "https://localhost:8080/"
        },
        "id": "U1wE-3dxOToE",
        "outputId": "a2c15a66-e793-45f7-c10b-8bac7b203b07"
      },
      "execution_count": null,
      "outputs": [
        {
          "output_type": "stream",
          "name": "stdout",
          "text": [
            "Idade média dos pacientes com problemas cardíacos: 50.08888888888889\n"
          ]
        }
      ]
    },
    {
      "cell_type": "markdown",
      "source": [
        "*Sim, podemos dizer que a média dos pacientes com problemas cardíacos é maior que 50 anos de idade.*"
      ],
      "metadata": {
        "id": "k9DJJK5YObFW"
      }
    },
    {
      "cell_type": "markdown",
      "source": [
        "4) Queremos entender que tipo de amostra estamos lidando se dividirmos os conjuntos em 2, sendo um com pessoas que têm condições de saúde adicionais e o outro com pessoas saudáveis. Seria dependente ou independente?\n"
      ],
      "metadata": {
        "id": "rqYpHOeMsQk0"
      }
    },
    {
      "cell_type": "markdown",
      "source": [
        "*No nosso problema, onde temos dois grupos distintos - um com pessoas que têm condições de saúde adicionais e outro com pessoas saudáveis - podemos considerar que estamos lidando com uma amostra independente. Isso porque não há nenhuma relação direta entre os indivíduos nos dois grupos e cada pessoa só pode pertencer a um dos grupos, mas não aos dois.*"
      ],
      "metadata": {
        "id": "Wru1hm1nO0Y_"
      }
    },
    {
      "cell_type": "markdown",
      "source": [
        "5) Agora considere o um conjunto de pessoas aleatória que representam o index do dataframe,  índices = ([690, 894,  67, 201, 364,  19,  60, 319, 588, 643, 855, 623, 530, 174, 105, 693,   6, 462, 973, 607, 811, 346, 354, 966, 943, 372]), podemos dizer que a pressão arterial média para pacientes com condições de saúde adicionais é igual à pressão arterial média para pacientes sem condições adicionais de saúde? Considere o nível de significância a 6%.\n"
      ],
      "metadata": {
        "id": "KEWjECtqsVZ-"
      }
    },
    {
      "cell_type": "code",
      "source": [
        "# Amostra de índices\n",
        "indices = [690, 894, 67, 201, 364, 19, 60, 319, 588, 643, 855, 623, 530, 174, 105, 693, 6, 462, 973, 607, 811, 346, 354, 966, 943, 372]\n",
        "\n",
        "# Filtrar pacientes com condições de saúde adicionais e calcular a média da pressão arterial\n",
        "pressao_pacientes_com_condicoes_adicionais = df.loc[indices, 'Pressao_Arterial'].mean()\n",
        "\n",
        "# Filtrar pacientes sem condições de saúde adicionais e calcular a média da pressão arterial\n",
        "pressao_pacientes_sem_condicoes_adicionais = df.loc[~df.index.isin(indices), 'Pressao_Arterial'].mean()\n",
        "\n",
        "print(\"Pressão arterial média para pacientes com condições adicionais de saúde:\", pressao_pacientes_com_condicoes_adicionais)\n",
        "print(\"Pressão arterial média para pacientes sem condições adicionais de saúde:\", pressao_pacientes_sem_condicoes_adicionais)\n"
      ],
      "metadata": {
        "id": "JIJM0_VLsZRv",
        "colab": {
          "base_uri": "https://localhost:8080/"
        },
        "outputId": "46daad94-dbe4-4688-8187-023612a7e3f2"
      },
      "execution_count": null,
      "outputs": [
        {
          "output_type": "stream",
          "name": "stdout",
          "text": [
            "Pressão arterial média para pacientes com condições adicionais de saúde: 153.08970714151184\n",
            "Pressão arterial média para pacientes sem condições adicionais de saúde: 150.30317272057826\n"
          ]
        }
      ]
    },
    {
      "cell_type": "markdown",
      "source": [
        "*A pressão arterial média para pacientes com condições adicionais de saúde não é igual à pressão arterial média para pacientes sem condições adionais de saúde. No entando, as médias ainda são bem próximas.*"
      ],
      "metadata": {
        "id": "GXo3Wk-ZPWyu"
      }
    },
    {
      "cell_type": "markdown",
      "source": [
        "6) Existe uma diferença significativa na pressão arterial média entre diferentes grupos étnicos nesta população? (Teste ANOVA, alpha é 5%) .\n",
        "a) Hipótese Nula (H0): A pressão arterial média é a mesma em todos os grupos étnicos.\n",
        "\n"
      ],
      "metadata": {
        "id": "j2rA7mo-sZ0Y"
      }
    },
    {
      "cell_type": "code",
      "source": [
        "from scipy.stats import f_oneway\n",
        "\n",
        "# Realizar o teste ANOVA\n",
        "alpha = 0.05\n",
        "f_statistic, p_value = f_oneway(df[df['Etnia'] == 1]['Pressao_Arterial'],\n",
        "                                 df[df['Etnia'] == 2]['Pressao_Arterial'],\n",
        "                                 df[df['Etnia'] == 3]['Pressao_Arterial'],\n",
        "                                 df[df['Etnia'] == 4]['Pressao_Arterial'],\n",
        "                                 df[df['Etnia'] == 5]['Pressao_Arterial'])\n",
        "\n",
        "print(\"Valor p:\", p_value)\n",
        "\n",
        "if p_value < alpha:\n",
        "    print(\"Rejeitamos a hipótese nula. Há evidências suficientes para afirmar que existe uma diferença significativa na pressão arterial média entre diferentes grupos étnicos nesta população.\")\n",
        "else:\n",
        "    print(\"Não rejeitamos a hipótese nula. Não há evidências suficientes para afirmar que existe uma diferença significativa na pressão arterial média entre diferentes grupos étnicos nesta população.\")\n"
      ],
      "metadata": {
        "id": "HnikSoevsptG",
        "colab": {
          "base_uri": "https://localhost:8080/"
        },
        "outputId": "b3089735-8ba5-42d9-9ec5-71c18f24952e"
      },
      "execution_count": null,
      "outputs": [
        {
          "output_type": "stream",
          "name": "stdout",
          "text": [
            "Valor p: nan\n",
            "Não rejeitamos a hipótese nula. Não há evidências suficientes para afirmar que existe uma diferença significativa na pressão arterial média entre diferentes grupos étnicos nesta população.\n"
          ]
        },
        {
          "output_type": "stream",
          "name": "stderr",
          "text": [
            "/usr/local/lib/python3.10/dist-packages/scipy/stats/_stats_py.py:4133: DegenerateDataWarning: at least one input has length 0\n",
            "  warnings.warn(stats.DegenerateDataWarning('at least one input '\n"
          ]
        }
      ]
    },
    {
      "cell_type": "markdown",
      "source": [
        "b) Existe uma associação entre a idade dos pacientes e sua pressão arterial?\n",
        "- Hipótese Nula (H0): A idade dos pacientes é independente da pressão arterial.\n",
        "- Hipótese Alternativa (H1): A idade dos pacientes está associada à sua pressão arterial."
      ],
      "metadata": {
        "id": "90N0Ad3gstMP"
      }
    },
    {
      "cell_type": "code",
      "source": [
        "from scipy.stats import pearsonr\n",
        "\n",
        "# Calcular o coeficiente de correlação de Pearson e o valor p\n",
        "correlation_coefficient, p_value = pearsonr(df['Idade'], df['Pressao_Arterial'])\n",
        "\n",
        "print(\"Coeficiente de correlação de Pearson:\", correlation_coefficient)\n",
        "print(\"Valor p:\", p_value)\n",
        "\n",
        "# Definir o nível de significância\n",
        "alpha = 0.05\n",
        "\n",
        "# Testar a hipótese nula\n",
        "if p_value < alpha:\n",
        "    print(\"Rejeitamos a hipótese nula. Existe uma associação significativa entre a idade dos pacientes e sua pressão arterial.\")\n",
        "else:\n",
        "    print(\"Não rejeitamos a hipótese nula. Não há evidências suficientes para afirmar que existe uma associação significativa entre a idade dos pacientes e sua pressão arterial.\")\n"
      ],
      "metadata": {
        "id": "-nhOFqm8sufC",
        "colab": {
          "base_uri": "https://localhost:8080/"
        },
        "outputId": "a46d3d54-be40-4472-bf1c-bdcf6137cea9"
      },
      "execution_count": null,
      "outputs": [
        {
          "output_type": "stream",
          "name": "stdout",
          "text": [
            "Coeficiente de correlação de Pearson: -0.021385356934648977\n",
            "Valor p: 0.4993608212055476\n",
            "Não rejeitamos a hipótese nula. Não há evidências suficientes para afirmar que existe uma associação significativa entre a idade dos pacientes e sua pressão arterial.\n"
          ]
        }
      ]
    },
    {
      "cell_type": "markdown",
      "source": [
        "c) HIpótese Alternativa (H1): Há uma diferença significativa na pressão arterial média entre pelo menos dois grupos étnicos nesta população.\n"
      ],
      "metadata": {
        "id": "Z383K0zYuhfP"
      }
    },
    {
      "cell_type": "code",
      "source": [
        "from scipy.stats import f_oneway\n",
        "\n",
        "# Realizar o teste ANOVA\n",
        "alpha = 0.05\n",
        "f_statistic, p_value = f_oneway(df[df['Etnia'] == 1]['Pressao_Arterial'],\n",
        "                                 df[df['Etnia'] == 2]['Pressao_Arterial'],\n",
        "                                 df[df['Etnia'] == 3]['Pressao_Arterial'],\n",
        "                                 df[df['Etnia'] == 4]['Pressao_Arterial'],\n",
        "                                 df[df['Etnia'] == 5]['Pressao_Arterial'])\n",
        "\n",
        "print(\"Valor p:\", p_value)\n",
        "\n",
        "# Testar a hipótese nula\n",
        "if p_value < alpha:\n",
        "    print(\"Rejeitamos a hipótese nula. Há uma diferença significativa na pressão arterial média entre pelo menos dois grupos étnicos nesta população.\")\n",
        "else:\n",
        "    print(\"Não rejeitamos a hipótese nula. Não há evidências suficientes para afirmar que há uma diferença significativa na pressão arterial média entre pelo menos dois grupos étnicos nesta população.\")\n"
      ],
      "metadata": {
        "id": "3tFdungTumRa",
        "colab": {
          "base_uri": "https://localhost:8080/"
        },
        "outputId": "6fd2329c-9216-47d2-d84c-6e95687f8f4a"
      },
      "execution_count": null,
      "outputs": [
        {
          "output_type": "stream",
          "name": "stdout",
          "text": [
            "Valor p: nan\n",
            "Não rejeitamos a hipótese nula. Não há evidências suficientes para afirmar que há uma diferença significativa na pressão arterial média entre pelo menos dois grupos étnicos nesta população.\n"
          ]
        }
      ]
    },
    {
      "cell_type": "markdown",
      "source": [
        "7) Lúcia é uma pesquisadora e tem o objetivo de entender a relação de gênero neste grupo de pacientes. Acredita-se que há uma relação entre o sexo e condições de saúde adicionais. (Teste qui-quadrado)\n"
      ],
      "metadata": {
        "id": "pRfAqp7ts57A"
      }
    },
    {
      "cell_type": "code",
      "source": [
        "from scipy.stats import chi2_contingency\n",
        "\n",
        "# Criar uma tabela de contingência entre as variáveis de gênero e condições de saúde adicionais\n",
        "contingency_table = pd.crosstab(df['Genero'], df['Estado_Saude'])\n",
        "\n",
        "# Realizar o teste qui-quadrado\n",
        "chi2_statistic, p_value, _, _ = chi2_contingency(contingency_table)\n",
        "\n",
        "print(\"Valor p:\", p_value)\n",
        "\n",
        "# Definir o nível de significância\n",
        "alpha = 0.05\n",
        "\n",
        "# Testar a hipótese nula\n",
        "if p_value < alpha:\n",
        "    print(\"Rejeitamos a hipótese nula. Há uma relação significativa entre o gênero dos pacientes e as condições de saúde adicionais.\")\n",
        "else:\n",
        "    print(\"Não rejeitamos a hipótese nula. Não há evidências suficientes para afirmar que há uma relação significativa entre o gênero dos pacientes e as condições de saúde adicionais.\")\n"
      ],
      "metadata": {
        "id": "Ra5bsdjgs7eW",
        "colab": {
          "base_uri": "https://localhost:8080/"
        },
        "outputId": "d292129b-8a7f-462a-a3a7-6e404f968efa"
      },
      "execution_count": null,
      "outputs": [
        {
          "output_type": "stream",
          "name": "stdout",
          "text": [
            "Valor p: 1.0\n",
            "Não rejeitamos a hipótese nula. Não há evidências suficientes para afirmar que há uma relação significativa entre o gênero dos pacientes e as condições de saúde adicionais.\n"
          ]
        }
      ]
    },
    {
      "cell_type": "markdown",
      "source": [
        "8) Qual é o intervalo de confiança para a média da pressão arterial entre os pacientes com condições de saúde adicionais? (nível de confiança 95%)\n"
      ],
      "metadata": {
        "id": "LvuKlJ7es-rd"
      }
    },
    {
      "cell_type": "code",
      "source": [
        "from scipy.stats import t\n",
        "import numpy as np\n",
        "\n",
        "# Dados dos pacientes com condições de saúde adicionais\n",
        "pressao_condicoes_adicionais = df[df['Estado_Saude'] == 1]['Pressao_Arterial']\n",
        "\n",
        "# Calcular o tamanho da amostra, a média e o desvio padrão\n",
        "n = len(pressao_condicoes_adicionais)\n",
        "mean = pressao_condicoes_adicionais.mean()\n",
        "std_dev = pressao_condicoes_adicionais.std()\n",
        "\n",
        "# Definir o nível de confiança\n",
        "confidence_level = 0.95\n",
        "\n",
        "# Calcular o erro padrão da média\n",
        "standard_error = std_dev / np.sqrt(n)\n",
        "\n",
        "# Calcular o valor crítico da distribuição t de Student\n",
        "t_critical = t.ppf((1 + confidence_level) / 2, n - 1)\n",
        "\n",
        "# Calcular o intervalo de confiança\n",
        "margin_of_error = t_critical * standard_error\n",
        "confidence_interval = (mean - margin_of_error, mean + margin_of_error)\n",
        "\n",
        "print(\"Intervalo de confiança para a média da pressão arterial entre os pacientes com condições de saúde adicionais:\")\n",
        "print(\"(\", confidence_interval[0], \",\", confidence_interval[1], \")\")\n"
      ],
      "metadata": {
        "id": "zxtOft21s_4x",
        "colab": {
          "base_uri": "https://localhost:8080/"
        },
        "outputId": "d068f548-6952-4c58-9eb5-64b8646b608a"
      },
      "execution_count": null,
      "outputs": [
        {
          "output_type": "stream",
          "name": "stdout",
          "text": [
            "Intervalo de confiança para a média da pressão arterial entre os pacientes com condições de saúde adicionais:\n",
            "( 149.21972443653837 , 151.01717945377672 )\n"
          ]
        }
      ]
    },
    {
      "cell_type": "markdown",
      "source": [
        "09) A distribuição da pressão arterial na população segue uma distribuição normal?\n",
        "- Hipótese Nula (H0): A distribuição da pressão arterial na população segue uma distribuição normal.\n",
        "- Hipótese Alternativa (H1): A distribuição da pressão arterial na população não segue uma distribuição normal.\n"
      ],
      "metadata": {
        "id": "O38Hw1SqtC9d"
      }
    },
    {
      "cell_type": "code",
      "source": [
        "from scipy.stats import shapiro\n",
        "\n",
        "# Realizar o teste de Shapiro-Wilk\n",
        "statistic, p_value = shapiro(df['Pressao_Arterial'])\n",
        "\n",
        "print(\"Valor p:\", p_value)\n",
        "\n",
        "# Definir o nível de significância\n",
        "alpha = 0.05\n",
        "\n",
        "# Testar a hipótese nula\n",
        "if p_value < alpha:\n",
        "    print(\"Rejeitamos a hipótese nula. A distribuição da pressão arterial na população não segue uma distribuição normal.\")\n",
        "else:\n",
        "    print(\"Não rejeitamos a hipótese nula. Não há evidências suficientes para afirmar que a distribuição da pressão arterial na população não segue uma distribuição normal.\")\n"
      ],
      "metadata": {
        "id": "fG1XoMe9tD2n",
        "colab": {
          "base_uri": "https://localhost:8080/"
        },
        "outputId": "a4f3a6bc-48b8-465d-e655-a2813458a3a5"
      },
      "execution_count": null,
      "outputs": [
        {
          "output_type": "stream",
          "name": "stdout",
          "text": [
            "Valor p: 0.06068389490246773\n",
            "Não rejeitamos a hipótese nula. Não há evidências suficientes para afirmar que a distribuição da pressão arterial na população não segue uma distribuição normal.\n"
          ]
        }
      ]
    }
  ]
}