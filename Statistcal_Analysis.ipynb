{
  "cells": [
    {
      "cell_type": "markdown",
      "metadata": {
        "id": "view-in-github",
        "colab_type": "text"
      },
      "source": [
        "<a href=\"https://colab.research.google.com/github/natreis02/Bootcamp/blob/main/Atividade_estat%C3%ADstica.ipynb\" target=\"_parent\"><img src=\"https://colab.research.google.com/assets/colab-badge.svg\" alt=\"Open In Colab\"/></a>"
      ]
    },
    {
      "cell_type": "markdown",
      "metadata": {
        "id": "MuqiCeeWNEij"
      },
      "source": [
        "ESTATÍSTICA -  PROBABILIDADE E AMOSTRAGEM - DESAFIO FINAL\n"
      ]
    },
    {
      "cell_type": "markdown",
      "metadata": {
        "id": "nKTFwXLANKIo"
      },
      "source": [
        "Você é uma pesquisadora desenvolvendo uma análise sobre as características da força de trabalho nos estados brasileiros. Responda as perguntas abaixo:"
      ]
    },
    {
      "cell_type": "markdown",
      "metadata": {
        "id": "u-II7H9FNh3S"
      },
      "source": [
        "1. Considere pessoas fluentes em inglês, qual a probabilidade\n",
        "complementar? Ou seja, qual a probabilidade de escolhermos uma\n",
        "pessoa aleatória e ela não ser fluente em inglês. Considere fluente\n",
        "quem tem o nível avançado."
      ]
    },
    {
      "cell_type": "code",
      "execution_count": null,
      "metadata": {
        "colab": {
          "base_uri": "https://localhost:8080/",
          "height": 55
        },
        "id": "47AubT68yC96",
        "outputId": "6e64b94b-2dd2-47e4-df8f-ec604af7c5f4"
      },
      "outputs": [
        {
          "output_type": "display_data",
          "data": {
            "text/plain": [
              "<IPython.core.display.HTML object>"
            ],
            "text/html": [
              "\n",
              "     <input type=\"file\" id=\"files-ad1da793-9b7c-4c25-85d2-9844a75950dd\" name=\"files[]\" multiple disabled\n",
              "        style=\"border:none\" />\n",
              "     <output id=\"result-ad1da793-9b7c-4c25-85d2-9844a75950dd\">\n",
              "      Upload widget is only available when the cell has been executed in the\n",
              "      current browser session. Please rerun this cell to enable.\n",
              "      </output>\n",
              "      <script>// Copyright 2017 Google LLC\n",
              "//\n",
              "// Licensed under the Apache License, Version 2.0 (the \"License\");\n",
              "// you may not use this file except in compliance with the License.\n",
              "// You may obtain a copy of the License at\n",
              "//\n",
              "//      http://www.apache.org/licenses/LICENSE-2.0\n",
              "//\n",
              "// Unless required by applicable law or agreed to in writing, software\n",
              "// distributed under the License is distributed on an \"AS IS\" BASIS,\n",
              "// WITHOUT WARRANTIES OR CONDITIONS OF ANY KIND, either express or implied.\n",
              "// See the License for the specific language governing permissions and\n",
              "// limitations under the License.\n",
              "\n",
              "/**\n",
              " * @fileoverview Helpers for google.colab Python module.\n",
              " */\n",
              "(function(scope) {\n",
              "function span(text, styleAttributes = {}) {\n",
              "  const element = document.createElement('span');\n",
              "  element.textContent = text;\n",
              "  for (const key of Object.keys(styleAttributes)) {\n",
              "    element.style[key] = styleAttributes[key];\n",
              "  }\n",
              "  return element;\n",
              "}\n",
              "\n",
              "// Max number of bytes which will be uploaded at a time.\n",
              "const MAX_PAYLOAD_SIZE = 100 * 1024;\n",
              "\n",
              "function _uploadFiles(inputId, outputId) {\n",
              "  const steps = uploadFilesStep(inputId, outputId);\n",
              "  const outputElement = document.getElementById(outputId);\n",
              "  // Cache steps on the outputElement to make it available for the next call\n",
              "  // to uploadFilesContinue from Python.\n",
              "  outputElement.steps = steps;\n",
              "\n",
              "  return _uploadFilesContinue(outputId);\n",
              "}\n",
              "\n",
              "// This is roughly an async generator (not supported in the browser yet),\n",
              "// where there are multiple asynchronous steps and the Python side is going\n",
              "// to poll for completion of each step.\n",
              "// This uses a Promise to block the python side on completion of each step,\n",
              "// then passes the result of the previous step as the input to the next step.\n",
              "function _uploadFilesContinue(outputId) {\n",
              "  const outputElement = document.getElementById(outputId);\n",
              "  const steps = outputElement.steps;\n",
              "\n",
              "  const next = steps.next(outputElement.lastPromiseValue);\n",
              "  return Promise.resolve(next.value.promise).then((value) => {\n",
              "    // Cache the last promise value to make it available to the next\n",
              "    // step of the generator.\n",
              "    outputElement.lastPromiseValue = value;\n",
              "    return next.value.response;\n",
              "  });\n",
              "}\n",
              "\n",
              "/**\n",
              " * Generator function which is called between each async step of the upload\n",
              " * process.\n",
              " * @param {string} inputId Element ID of the input file picker element.\n",
              " * @param {string} outputId Element ID of the output display.\n",
              " * @return {!Iterable<!Object>} Iterable of next steps.\n",
              " */\n",
              "function* uploadFilesStep(inputId, outputId) {\n",
              "  const inputElement = document.getElementById(inputId);\n",
              "  inputElement.disabled = false;\n",
              "\n",
              "  const outputElement = document.getElementById(outputId);\n",
              "  outputElement.innerHTML = '';\n",
              "\n",
              "  const pickedPromise = new Promise((resolve) => {\n",
              "    inputElement.addEventListener('change', (e) => {\n",
              "      resolve(e.target.files);\n",
              "    });\n",
              "  });\n",
              "\n",
              "  const cancel = document.createElement('button');\n",
              "  inputElement.parentElement.appendChild(cancel);\n",
              "  cancel.textContent = 'Cancel upload';\n",
              "  const cancelPromise = new Promise((resolve) => {\n",
              "    cancel.onclick = () => {\n",
              "      resolve(null);\n",
              "    };\n",
              "  });\n",
              "\n",
              "  // Wait for the user to pick the files.\n",
              "  const files = yield {\n",
              "    promise: Promise.race([pickedPromise, cancelPromise]),\n",
              "    response: {\n",
              "      action: 'starting',\n",
              "    }\n",
              "  };\n",
              "\n",
              "  cancel.remove();\n",
              "\n",
              "  // Disable the input element since further picks are not allowed.\n",
              "  inputElement.disabled = true;\n",
              "\n",
              "  if (!files) {\n",
              "    return {\n",
              "      response: {\n",
              "        action: 'complete',\n",
              "      }\n",
              "    };\n",
              "  }\n",
              "\n",
              "  for (const file of files) {\n",
              "    const li = document.createElement('li');\n",
              "    li.append(span(file.name, {fontWeight: 'bold'}));\n",
              "    li.append(span(\n",
              "        `(${file.type || 'n/a'}) - ${file.size} bytes, ` +\n",
              "        `last modified: ${\n",
              "            file.lastModifiedDate ? file.lastModifiedDate.toLocaleDateString() :\n",
              "                                    'n/a'} - `));\n",
              "    const percent = span('0% done');\n",
              "    li.appendChild(percent);\n",
              "\n",
              "    outputElement.appendChild(li);\n",
              "\n",
              "    const fileDataPromise = new Promise((resolve) => {\n",
              "      const reader = new FileReader();\n",
              "      reader.onload = (e) => {\n",
              "        resolve(e.target.result);\n",
              "      };\n",
              "      reader.readAsArrayBuffer(file);\n",
              "    });\n",
              "    // Wait for the data to be ready.\n",
              "    let fileData = yield {\n",
              "      promise: fileDataPromise,\n",
              "      response: {\n",
              "        action: 'continue',\n",
              "      }\n",
              "    };\n",
              "\n",
              "    // Use a chunked sending to avoid message size limits. See b/62115660.\n",
              "    let position = 0;\n",
              "    do {\n",
              "      const length = Math.min(fileData.byteLength - position, MAX_PAYLOAD_SIZE);\n",
              "      const chunk = new Uint8Array(fileData, position, length);\n",
              "      position += length;\n",
              "\n",
              "      const base64 = btoa(String.fromCharCode.apply(null, chunk));\n",
              "      yield {\n",
              "        response: {\n",
              "          action: 'append',\n",
              "          file: file.name,\n",
              "          data: base64,\n",
              "        },\n",
              "      };\n",
              "\n",
              "      let percentDone = fileData.byteLength === 0 ?\n",
              "          100 :\n",
              "          Math.round((position / fileData.byteLength) * 100);\n",
              "      percent.textContent = `${percentDone}% done`;\n",
              "\n",
              "    } while (position < fileData.byteLength);\n",
              "  }\n",
              "\n",
              "  // All done.\n",
              "  yield {\n",
              "    response: {\n",
              "      action: 'complete',\n",
              "    }\n",
              "  };\n",
              "}\n",
              "\n",
              "scope.google = scope.google || {};\n",
              "scope.google.colab = scope.google.colab || {};\n",
              "scope.google.colab._files = {\n",
              "  _uploadFiles,\n",
              "  _uploadFilesContinue,\n",
              "};\n",
              "})(self);\n",
              "</script> "
            ]
          },
          "metadata": {}
        }
      ],
      "source": [
        "import pandas as pd\n",
        "from google.colab import files\n",
        "\n",
        "# Selecionar arquivo\n",
        "uploaded = files.upload()\n",
        "\n",
        "# Carregar o arquivo CSV em um DataFrame\n",
        "nome_arquivo = next(iter(uploaded))\n",
        "df = pd.read_csv('populacao_brasileira.csv.csv')\n",
        "\n",
        "# Exibir os nomes das colunas\n",
        "print(\"Nomes das colunas do DataFrame:\")\n",
        "print(df.columns)"
      ]
    },
    {
      "cell_type": "code",
      "execution_count": null,
      "metadata": {
        "colab": {
          "base_uri": "https://localhost:8080/"
        },
        "id": "-E2n-VuFthRb",
        "outputId": "ce3e0158-88ab-42eb-cccb-b6cf98b42a2a"
      },
      "outputs": [
        {
          "output_type": "stream",
          "name": "stdout",
          "text": [
            "Probabilidade complementar de escolher um não fluente em inglês: 0.656\n"
          ]
        }
      ],
      "source": [
        "# Contar o número de pessoas fluentes em inglês (nível avançado)\n",
        "fluentes_ingles = df[df['nível de proficiência em inglês'] == 'Avançado']\n",
        "\n",
        "# Calcular a probabilidade complementar\n",
        "probabilidade_complementar = 1 - len(fluentes_ingles) / len(df)\n",
        "\n",
        "# Exibir o resultado\n",
        "print(\"Probabilidade complementar de escolher um não fluente em inglês:\", probabilidade_complementar)\n"
      ]
    },
    {
      "cell_type": "markdown",
      "metadata": {
        "id": "rRi6z0PNNPup"
      },
      "source": [
        "2. Se uma pessoa escolhida aleatoriamente for de Alagoas ou do Pará,\n",
        "qual é a probabilidade de ela ter uma renda superior a 5 mil reais?"
      ]
    },
    {
      "cell_type": "code",
      "execution_count": null,
      "metadata": {
        "id": "wpwcsVSvNo4F",
        "colab": {
          "base_uri": "https://localhost:8080/"
        },
        "outputId": "0d66a2bc-316d-43dd-9494-586e54d67c7e"
      },
      "outputs": [
        {
          "output_type": "stream",
          "name": "stdout",
          "text": [
            "Probabilidade de uma pessoa de Alagoas ou do Pará ter uma renda superior a 5 mil reais: 0.05063291139240506\n"
          ]
        }
      ],
      "source": [
        "# Filtrar pessoas de Alagoas ou do Pará\n",
        "alagoas_para = df[(df['estado'] == 'AL') | (df['estado'] == 'PA')]\n",
        "\n",
        "# Verificar se há pessoas de Alagoas ou do Pará no conjunto de dados\n",
        "if len(alagoas_para) == 0:\n",
        "    print(\"Não há pessoas de Alagoas ou do Pará no conjunto de dados.\")\n",
        "else:\n",
        "    # Filtrar pessoas com renda superior a 5 mil reais\n",
        "    renda_superior_5mil = alagoas_para[alagoas_para['renda'] > 5000]\n",
        "\n",
        "    # Verificar se há pessoas com renda superior a 5 mil reais em Alagoas ou Pará\n",
        "    if len(renda_superior_5mil) == 0:\n",
        "        print(\"Não há pessoas de Alagoas ou do Pará com renda superior a 5 mil reais.\")\n",
        "    else:\n",
        "        # Calcular a probabilidade\n",
        "        total_alagoas_para = len(alagoas_para)\n",
        "        total_renda_superior_5mil = len(renda_superior_5mil)\n",
        "        probabilidade_renda_superior_5mil = total_renda_superior_5mil / total_alagoas_para\n",
        "\n",
        "        # Exibir o resultado\n",
        "        print(\"Probabilidade de uma pessoa de Alagoas ou do Pará ter uma renda superior a 5 mil reais:\", probabilidade_renda_superior_5mil)\n"
      ]
    },
    {
      "cell_type": "markdown",
      "metadata": {
        "id": "QtgOuFfINpYf"
      },
      "source": [
        "3. Descubra a probabilidade de uma pessoa ter ensino superior completo\n",
        "no estado do Amazonas. Qual a probabilidade da quinta pessoa que\n",
        "você conversar, que é amazonense, ter ensino superior completo?"
      ]
    },
    {
      "cell_type": "code",
      "execution_count": null,
      "metadata": {
        "id": "N11UXITdNruY",
        "colab": {
          "base_uri": "https://localhost:8080/"
        },
        "outputId": "7739f9a8-0d16-4faf-d8da-41dec09e9dfe"
      },
      "outputs": [
        {
          "output_type": "stream",
          "name": "stdout",
          "text": [
            "Probabilidade de uma pessoa no Amazonas ter ensino superior completo: 0.23684210526315788\n",
            "Probabilidade da quinta pessoa que você conversar, que é amazonense, ter ensino superior completo: 0.0\n"
          ]
        }
      ],
      "source": [
        "# Calcular a probabilidade de uma pessoa no Amazonas ter ensino superior completo\n",
        "total_amazonenses = df[df['estado'] == 'AM'].shape[0]\n",
        "amazonenses_com_ensino_superior = df[(df['estado'] == 'AM') & (df['escolaridade'] == 'Superior')].shape[0]\n",
        "probabilidade_amazonense_ensino_superior = amazonenses_com_ensino_superior / total_amazonenses\n",
        "\n",
        "print(\"Probabilidade de uma pessoa no Amazonas ter ensino superior completo:\", probabilidade_amazonense_ensino_superior)\n",
        "\n",
        "# Calculando a probabilidade da quinta pessoa que você conversar, que é amazonense, ter ensino superior completo\n",
        "def prob_quinta_pessoa_com_ensino_superior(df):\n",
        "    amazonenses = df[df['estado'] == 'AM']\n",
        "    fifth_person = amazonenses.sample(n=5, random_state=42).iloc[-1]\n",
        "    return fifth_person['escolaridade'] == 'Superior'\n",
        "\n",
        "num_simulacoes = 100000\n",
        "probabilidade_quinta_pessoa_ensino_superior = sum(prob_quinta_pessoa_com_ensino_superior(df) for _ in range(num_simulacoes)) / num_simulacoes\n",
        "\n",
        "print(\"Probabilidade da quinta pessoa que você conversar, que é amazonense, ter ensino superior completo:\", probabilidade_quinta_pessoa_ensino_superior)\n"
      ]
    },
    {
      "cell_type": "markdown",
      "metadata": {
        "id": "_Ui5RxtUNsX7"
      },
      "source": [
        "4. Considerando a renda das pessoas do nosso conjunto, podemos dizer\n",
        "que a renda de uma pessoa brasileira está na sua maioria em que faixa\n",
        "(faça faixa de 1.500 reais)? Qual é a sua função densidade de\n",
        "probabilidade?\n"
      ]
    },
    {
      "cell_type": "code",
      "execution_count": null,
      "metadata": {
        "id": "VFmOd0qKNutE",
        "colab": {
          "base_uri": "https://localhost:8080/"
        },
        "outputId": "9ee80b7e-a90c-4a78-dce2-7a2120f6dda5"
      },
      "outputs": [
        {
          "output_type": "stream",
          "name": "stdout",
          "text": [
            "Contagem de pessoas em cada faixa de renda:\n",
            "(-0.001, 1500.0]     55\n",
            "(1500.0, 3000.0]    414\n",
            "(3000.0, 4500.0]    442\n",
            "(4500.0, 6000.0]     89\n",
            "Name: renda, dtype: int64\n",
            "\n",
            "Função densidade de probabilidade (PDF):\n",
            "(-0.001, 1500.0]    0.000037\n",
            "(1500.0, 3000.0]    0.000276\n",
            "(3000.0, 4500.0]    0.000295\n",
            "(4500.0, 6000.0]    0.000059\n",
            "Name: renda, dtype: float64\n",
            "\n",
            "Faixa de renda com a maior densidade de probabilidade: (3000.0, 4500.0]\n"
          ]
        }
      ],
      "source": [
        "# Definir a largura da faixa de renda\n",
        "largura_faixa = 1500\n",
        "\n",
        "# Criar faixas de renda\n",
        "faixas_renda = range(0, int(df['renda'].max()) + largura_faixa, largura_faixa)\n",
        "\n",
        "# Contar o número de pessoas em cada faixa de renda\n",
        "contagem_por_faixa = pd.cut(df['renda'], bins=faixas_renda, include_lowest=True).value_counts().sort_index()\n",
        "\n",
        "# Calcular a função densidade de probabilidade (PDF)\n",
        "total_pessoas = len(df)\n",
        "pdf = contagem_por_faixa / (total_pessoas * largura_faixa)\n",
        "\n",
        "# Encontrar a faixa de renda com a maior densidade de probabilidade\n",
        "faixa_mais_probavel = pdf.idxmax()\n",
        "\n",
        "# Exibir os resultados\n",
        "print(\"Contagem de pessoas em cada faixa de renda:\")\n",
        "print(contagem_por_faixa)\n",
        "print(\"\\nFunção densidade de probabilidade (PDF):\")\n",
        "print(pdf)\n",
        "print(\"\\nFaixa de renda com a maior densidade de probabilidade:\", faixa_mais_probavel)\n"
      ]
    },
    {
      "cell_type": "markdown",
      "metadata": {
        "id": "4zqwAMYpNxRL"
      },
      "source": [
        "5. Calcule a média e a variância da renda da amostra. Depois faça a\n",
        "distribuição normal, inclua o gráfico"
      ]
    },
    {
      "cell_type": "code",
      "source": [
        "import numpy as np\n",
        "import matplotlib.pyplot as plt\n",
        "from scipy.stats import norm\n",
        "\n",
        "# Calcular média e variância da renda da amostra\n",
        "media_renda = df['renda'].mean()\n",
        "variancia_renda = df['renda'].var()\n",
        "\n",
        "# Imprimir média e variância\n",
        "print(\"Média da renda:\", media_renda)\n",
        "print(\"Variância da renda:\", variancia_renda)\n",
        "\n",
        "# Criar a distribuição normal teórica\n",
        "renda_min = df['renda'].min()\n",
        "renda_max = df['renda'].max()\n",
        "x = np.linspace(renda_min, renda_max, 1000)\n",
        "pdf = norm.pdf(x, media_renda, np.sqrt(variancia_renda))\n",
        "\n",
        "# Plotar a distribuição normal\n",
        "plt.figure(figsize=(10, 6))\n",
        "plt.plot(x, pdf, label='Distribuição Normal', color='red')\n",
        "plt.hist(df['renda'], bins=30, density=True, alpha=0.6, label='Histograma da Renda')\n",
        "plt.title('Distribuição Normal da Renda')\n",
        "plt.xlabel('Renda')\n",
        "plt.ylabel('Densidade de Probabilidade')\n",
        "plt.legend()\n",
        "plt.grid(True)\n",
        "plt.show()\n"
      ],
      "metadata": {
        "colab": {
          "base_uri": "https://localhost:8080/",
          "height": 601
        },
        "id": "84zi6UsY4W0R",
        "outputId": "0893868b-acc5-49bb-d939-dfbe2a0c6f50"
      },
      "execution_count": null,
      "outputs": [
        {
          "output_type": "stream",
          "name": "stdout",
          "text": [
            "Média da renda: 3082.5371800000003\n",
            "Variância da renda: 993156.2281676152\n"
          ]
        },
        {
          "output_type": "display_data",
          "data": {
            "text/plain": [
              "<Figure size 1000x600 with 1 Axes>"
            ],
            "image/png": "[encoded data removed]"
          },
          "metadata": {}
        }
      ]
    },
    {
      "cell_type": "markdown",
      "metadata": {
        "id": "tiUyeDwxN0LF"
      },
      "source": [
        "6. Primeiro considere a probabilidade encontrada no nosso conjunto de\n",
        "pessoas com escolaridade de pós-graduação. Considerando a amostra\n",
        "de população brasileira com 1 milhão de habitantes, qual a\n",
        "probabilidade de encontrarmos 243 mil pessoas com pós-graduação?"
      ]
    },
    {
      "cell_type": "code",
      "execution_count": null,
      "metadata": {
        "id": "LzP_qaTFN087",
        "colab": {
          "base_uri": "https://localhost:8080/"
        },
        "outputId": "68f6d22f-aca4-4a93-bc30-a93f474fc9ae"
      },
      "outputs": [
        {
          "output_type": "stream",
          "name": "stdout",
          "text": [
            "Probabilidade de uma pessoa ter pós-graduação: 0.253\n",
            "Probabilidade de encontrar 243 mil pessoas com pós-graduação em uma amostra de 1 milhão de habitantes: 1.1104854289794913e-119\n"
          ]
        }
      ],
      "source": [
        "from scipy.stats import binom\n",
        "\n",
        "# Calcular o número de pessoas com pós-graduação\n",
        "total_pos_grad = len(df[df['escolaridade'] == 'Pós-graduação'])\n",
        "\n",
        "# Tamanho total do conjunto de dados\n",
        "total_pessoas = len(df)\n",
        "\n",
        "# Calcular a probabilidade de uma pessoa ter pós-graduação\n",
        "probabilidade_pos_grad = total_pos_grad / total_pessoas\n",
        "\n",
        "print(\"Probabilidade de uma pessoa ter pós-graduação:\", probabilidade_pos_grad)\n",
        "\n",
        "# Tamanho da população (número de tentativas)\n",
        "n = 1000000\n",
        "\n",
        "# Número de sucessos desejados (número de pessoas com pós-graduação)\n",
        "k = 243000\n",
        "\n",
        "# Probabilidade de sucesso em uma única tentativa (probabilidade de uma pessoa ter pós-graduação)\n",
        "probabilidade_pos_grad = total_pos_grad / total_pessoas\n",
        "\n",
        "# Calcular a probabilidade usando a distribuição binomial\n",
        "probabilidade = binom.pmf(k, n, probabilidade_pos_grad)\n",
        "\n",
        "# Exibir o resultado\n",
        "print(\"Probabilidade de encontrar 243 mil pessoas com pós-graduação em uma amostra de 1 milhão de habitantes:\", probabilidade)\n",
        "\n"
      ]
    },
    {
      "cell_type": "markdown",
      "metadata": {
        "id": "cujAM96WN3Jp"
      },
      "source": [
        "7. Somando as densidades nós temos a função de densidade acumulada.\n",
        "Considerando a coluna ‘Escolaridade’ faça a função de densidade\n",
        "acumulada discreta para cada nível de escolaridade."
      ]
    },
    {
      "cell_type": "code",
      "execution_count": null,
      "metadata": {
        "id": "2wl-A1RmN4Cr",
        "colab": {
          "base_uri": "https://localhost:8080/"
        },
        "outputId": "14b6716f-de8c-4ba6-8180-8902b3798523"
      },
      "outputs": [
        {
          "output_type": "stream",
          "name": "stdout",
          "text": [
            "Função de densidade acumulada discreta para cada nível de escolaridade:\n",
            "Fundamental      0.266\n",
            "Pós-graduação    0.519\n",
            "Superior         0.762\n",
            "Médio            1.000\n",
            "Name: escolaridade, dtype: float64\n"
          ]
        }
      ],
      "source": [
        "import pandas as pd\n",
        "\n",
        "# Calcular a frequência de cada nível de escolaridade\n",
        "frequencia_escolaridade = df['escolaridade'].value_counts()\n",
        "\n",
        "# Calcular a densidade de probabilidade para cada nível de escolaridade\n",
        "total_pessoas = len(df)\n",
        "densidade_probabilidade_escolaridade = frequencia_escolaridade / total_pessoas\n",
        "\n",
        "# Calcular a função de densidade acumulada discreta\n",
        "densidade_acumulada_escolaridade = densidade_probabilidade_escolaridade.cumsum()\n",
        "\n",
        "# Exibir a função de densidade acumulada discreta para cada nível de escolaridade\n",
        "print(\"Função de densidade acumulada discreta para cada nível de escolaridade:\")\n",
        "print(densidade_acumulada_escolaridade)\n"
      ]
    },
    {
      "cell_type": "markdown",
      "metadata": {
        "id": "fJ9V6vWRN43u"
      },
      "source": [
        "8. Qual a margem de erro amostral da proporção populacional\n",
        "considerando a proporção de pessoas com nível de inglês\n",
        "intermediário?"
      ]
    },
    {
      "cell_type": "code",
      "execution_count": null,
      "metadata": {
        "id": "DM-b-ulmN67z",
        "colab": {
          "base_uri": "https://localhost:8080/"
        },
        "outputId": "41f082c8-e13e-43b5-e4e5-d36f48bbf574"
      },
      "outputs": [
        {
          "output_type": "stream",
          "name": "stdout",
          "text": [
            "Margem de erro amostral da proporção populacional: 0.029121603225097343\n"
          ]
        }
      ],
      "source": [
        "import numpy as np\n",
        "\n",
        "# Definir o tamanho da amostra (suponha que seja 1000 para este exemplo)\n",
        "n = 1000\n",
        "\n",
        "# Definir a proporção da população (proporção de pessoas com nível de inglês intermediário)\n",
        "proporcao_populacao = df[df['nível de proficiência em inglês'] == 'Intermediário'].shape[0] / len(df)\n",
        "\n",
        "# Definir o escore z para um nível de confiança de 95% (1.96 para uma distribuição normal padrão)\n",
        "z = 1.96\n",
        "\n",
        "# Calcular a margem de erro amostral\n",
        "margem_erro = z * np.sqrt((proporcao_populacao * (1 - proporcao_populacao)) / n)\n",
        "\n",
        "print(\"Margem de erro amostral da proporção populacional:\", margem_erro)\n"
      ]
    },
    {
      "cell_type": "markdown",
      "metadata": {
        "id": "Bi6jjnyeN7XB"
      },
      "source": [
        "9. Calcula a renda da população. Qual a probabilidade de encontrar 60\n",
        "pessoas com uma renda mil reais superior à média?\n"
      ]
    },
    {
      "cell_type": "code",
      "execution_count": null,
      "metadata": {
        "id": "3QPDxTmMN9Zz",
        "colab": {
          "base_uri": "https://localhost:8080/"
        },
        "outputId": "16d0e1a8-40b7-41b5-f334-5165e11ceb99"
      },
      "outputs": [
        {
          "output_type": "stream",
          "name": "stdout",
          "text": [
            "Probabilidade de encontrar 60 pessoas com uma renda mil reais superior à média: 1.099520565163774e-22\n"
          ]
        }
      ],
      "source": [
        "from scipy.stats import binom\n",
        "\n",
        "# Tamanho da população (número de tentativas)\n",
        "n = len(df)\n",
        "\n",
        "# Número de sucessos desejados (número de pessoas com uma renda mil reais superior à média)\n",
        "k = 60\n",
        "\n",
        "# Média da renda da população\n",
        "media_renda = df['renda'].mean()\n",
        "\n",
        "# Probabilidade de sucesso em uma única tentativa (probabilidade de uma pessoa ter uma renda mil reais superior à média)\n",
        "# Supondo que a renda média seja a média da população\n",
        "probabilidade_superior_media = sum(df['renda'] > media_renda + 1000) / n\n",
        "\n",
        "# Calcular a probabilidade usando a distribuição binomial\n",
        "probabilidade = binom.pmf(k, n, probabilidade_superior_media)\n",
        "\n",
        "# Exibir o resultado\n",
        "print(\"Probabilidade de encontrar 60 pessoas com uma renda mil reais superior à média:\", probabilidade)\n"
      ]
    },
    {
      "cell_type": "markdown",
      "source": [
        "10) Qual a probabilidade de escolhermos alguém do Sudeste que seja\n",
        "homem, com ensino fundamental e com renda maior que 2 mil reais por\n",
        "mês?"
      ],
      "metadata": {
        "id": "jcsrb2Ye9tJL"
      }
    },
    {
      "cell_type": "code",
      "source": [
        "# Definir os estados do Sudeste\n",
        "estados_sudeste = ['SP', 'MG', 'RJ', 'ES']\n",
        "\n",
        "# Filtrar o DataFrame para incluir apenas as pessoas do Sudeste que sejam homens e tenham ensino fundamental\n",
        "sudeste_homens_ensino_fundamental = df[(df['estado'].isin(estados_sudeste)) & (df['sexo'] == 'Masculino') & (df['escolaridade'] == 'Fundamental')]\n",
        "\n",
        "# Verificar se há pessoas no subconjunto antes de calcular a probabilidade\n",
        "if len(sudeste_homens_ensino_fundamental) == 0:\n",
        "    print(\"Não há pessoas no Sudeste que sejam homens e tenham ensino fundamental.\")\n",
        "else:\n",
        "    # Contar quantas pessoas têm renda maior que 2 mil reais por mês dentro desse subconjunto\n",
        "    renda_maior_2mil = sudeste_homens_ensino_fundamental[sudeste_homens_ensino_fundamental['renda'] > 2000].shape[0]\n",
        "\n",
        "    # Calcular a probabilidade com base no número de pessoas com renda maior que 2 mil reais dividido pelo número total de pessoas no subconjunto\n",
        "    total_pessoas = len(sudeste_homens_ensino_fundamental)\n",
        "    probabilidade = renda_maior_2mil / total_pessoas\n",
        "\n",
        "    # Exibir o resultado\n",
        "    print(\"Probabilidade de escolhermos alguém do Sudeste (SP, MG, RJ, ES), homem, com ensino fundamental e com renda maior que 2 mil reais por mês:\", probabilidade)"
      ],
      "metadata": {
        "colab": {
          "base_uri": "https://localhost:8080/"
        },
        "id": "WF6rXUH19vA_",
        "outputId": "86fcddde-5b92-47d9-cb4d-0a53e87dae79"
      },
      "execution_count": null,
      "outputs": [
        {
          "output_type": "stream",
          "name": "stdout",
          "text": [
            "Não há pessoas no Sudeste que sejam homens e tenham ensino fundamental.\n"
          ]
        }
      ]
    },
    {
      "cell_type": "markdown",
      "metadata": {
        "id": "JKZRap0yN9z3"
      },
      "source": []
    }
  ],
  "metadata": {
    "colab": {
      "provenance": [],
      "authorship_tag": "ABX9TyN2JXy0bkGmQ1RQZJZW4j3R",
      "include_colab_link": true
    },
    "kernelspec": {
      "display_name": "Python 3",
      "name": "python3"
    },
    "language_info": {
      "name": "python"
    }
  },
  "nbformat": 4,
  "nbformat_minor": 0
}
