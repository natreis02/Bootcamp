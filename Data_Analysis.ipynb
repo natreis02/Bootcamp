{
  "nbformat": 4,
  "nbformat_minor": 0,
  "metadata": {
    "colab": {
      "provenance": [],
      "authorship_tag": "ABX9TyMWFwfhqpGViGzvotRhxBJn",
      "include_colab_link": true
    },
    "kernelspec": {
      "name": "python3",
      "display_name": "Python 3"
    },
    "language_info": {
      "name": "python"
    }
  },
  "cells": [
    {
      "cell_type": "markdown",
      "metadata": {
        "id": "view-in-github",
        "colab_type": "text"
      },
      "source": [
        "<a href=\"https://colab.research.google.com/github/natreis02/Data_Analytic/blob/main/Data_Analysis.ipynb\" target=\"_parent\"><img src=\"https://colab.research.google.com/assets/colab-badge.svg\" alt=\"Open In Colab\"/></a>"
      ]
    },
    {
      "cell_type": "code",
      "source": [
        "\n",
        "import os\n",
        "from google.colab import drive\n",
        "import pandas as pd\n",
        "\n",
        "# Google Drive\n",
        "drive.mount('/content/drive', force_remount=True)\n",
        "\n",
        "# Caminho para o arquivo\n",
        "file_name = 'saude_do_sono_estilo_vida.csv'\n",
        "drive_path = '/content/drive/MyDrive/Bootcamp/'\n",
        "\n",
        "# Caminho completo do arquivo\n",
        "csv_path = os.path.join(drive_path, file_name)\n",
        "\n",
        "# Ler o arquivo e corrigir codificação\n",
        "df = pd.read_csv(csv_path, encoding='ISO-8859-1', sep=',')\n",
        "\n",
        "# Visualizar o DataFrame\n",
        "print(df.head())\n",
        "\n"
      ],
      "metadata": {
        "colab": {
          "base_uri": "https://localhost:8080/"
        },
        "id": "K53w7fd4JDTp",
        "outputId": "d55b7e9a-e3c3-40c6-a8b9-da3f1f073fda"
      },
      "execution_count": null,
      "outputs": [
        {
          "output_type": "stream",
          "name": "stdout",
          "text": [
            "Mounted at /content/drive\n",
            "   ID GÃªnero  Idade               OcupaÃ§Ã£o  DuraÃ§Ã£o do sono  \\\n",
            "0   1   Homem     27         Eng. de Software                6.1   \n",
            "1   2   Homem     28               MÃ©dico(a)                6.2   \n",
            "2   3   Homem     28               MÃ©dico(a)                6.2   \n",
            "3   4   Homem     28  Representante de Vendas                5.9   \n",
            "4   5   Homem     28  Representante de Vendas                5.9   \n",
            "\n",
            "   Qualidade do sono  NÃ­vel de atividade fÃ­sica  NÃ­vel de estresse  \\\n",
            "0                  6                           42                   6   \n",
            "1                  6                           60                   8   \n",
            "2                  6                           60                   8   \n",
            "3                  4                           30                   8   \n",
            "4                  4                           30                   8   \n",
            "\n",
            "  Categoria BMI PressÃ£o sanguÃ­neaaaa  FrequÃªncia cardÃ­aca  \\\n",
            "0     Sobrepeso                 126/83                     77   \n",
            "1        Normal                 125/80                     75   \n",
            "2        Normal                 125/80                     75   \n",
            "3     Obesidade                 140/90                     85   \n",
            "4     Obesidade                 140/90                     85   \n",
            "\n",
            "   Passos diÃ¡rios DistÃºrbio do sono  \n",
            "0             4200            Nenhuma  \n",
            "1            10000            Nenhuma  \n",
            "2            10000            Nenhuma  \n",
            "3             3000     Apneia do sono  \n",
            "4             3000     Apneia do sono  \n"
          ]
        }
      ]
    },
    {
      "cell_type": "markdown",
      "source": [
        "01) Ao visualizar a base você percebeu que seria melhor alterar o nome de\n",
        "algumas colunas. Mude o ‘ID’ para ‘Identificador’, corrija o nome da\n",
        "coluna que indica a pressão sanguínea, mude a coluna ‘Ocupação’ para\n",
        "‘Profissão’, a coluna ‘Categoria BMI’ está em parte em inglês, substitua\n",
        "para ‘Categoria IMC’.\n"
      ],
      "metadata": {
        "id": "8Y3mpkFjNt2a"
      }
    },
    {
      "cell_type": "code",
      "source": [
        "\n",
        "# Corrigir nomes das colunas\n",
        "df = df.rename(columns={'ID': 'Identificador',\n",
        "                        'GÃªnero': 'Gênero',\n",
        "                        'Idade': 'Idade',\n",
        "                        'OcupaÃ§Ã£o': 'Profissão',\n",
        "                        'DuraÃ§Ã£o do sono': 'Duração do sono',\n",
        "                        'Qualidade do sono': 'Qualidade do sono',\n",
        "                        'NÃ­vel de atividade fÃ­sica': 'Nível de atividade física',\n",
        "                        'NÃ­vel de estresse': 'Nível de estresse',\n",
        "                        'Categoria BMI': 'Categoria IMC',\n",
        "                        'PressÃ£o sanguÃ­neaaaa': 'Pressão sanguínea',\n",
        "                        'FrequÃªncia cardÃ­aca': 'Frequência cardíaca',\n",
        "                        'Passos diÃ¡rios': 'Passos diários',\n",
        "                        'DistÃºrbio do sono': 'Distúrbio do sono'})\n",
        "\n",
        "# Substituir o nome da profissão 'Médico' que está escrita com caracteres.\n",
        "df['Profissão'] = df['Profissão'].replace({'MÃ©dico(a)': 'Médico(a)'})\n",
        "\n",
        "# Visualizar o DataFrame (5 primeiras linhas)\n",
        "print(df.head())\n",
        "\n",
        "\n"
      ],
      "metadata": {
        "colab": {
          "base_uri": "https://localhost:8080/"
        },
        "id": "5hPxJQJjNQr1",
        "outputId": "f0489f79-19fc-4e7d-cf49-cf074e968952"
      },
      "execution_count": null,
      "outputs": [
        {
          "output_type": "stream",
          "name": "stdout",
          "text": [
            "   Identificador Gênero  Idade                Profissão  Duração do sono  \\\n",
            "0              1  Homem     27         Eng. de Software              6.1   \n",
            "1              2  Homem     28                Médico(a)              6.2   \n",
            "2              3  Homem     28                Médico(a)              6.2   \n",
            "3              4  Homem     28  Representante de Vendas              5.9   \n",
            "4              5  Homem     28  Representante de Vendas              5.9   \n",
            "\n",
            "   Qualidade do sono  Nível de atividade física  Nível de estresse  \\\n",
            "0                  6                         42                  6   \n",
            "1                  6                         60                  8   \n",
            "2                  6                         60                  8   \n",
            "3                  4                         30                  8   \n",
            "4                  4                         30                  8   \n",
            "\n",
            "  Categoria IMC Pressão sanguínea  Frequência cardíaca  Passos diários  \\\n",
            "0     Sobrepeso            126/83                   77            4200   \n",
            "1        Normal            125/80                   75           10000   \n",
            "2        Normal            125/80                   75           10000   \n",
            "3     Obesidade            140/90                   85            3000   \n",
            "4     Obesidade            140/90                   85            3000   \n",
            "\n",
            "  Distúrbio do sono  \n",
            "0           Nenhuma  \n",
            "1           Nenhuma  \n",
            "2           Nenhuma  \n",
            "3    Apneia do sono  \n",
            "4    Apneia do sono  \n"
          ]
        }
      ]
    },
    {
      "cell_type": "markdown",
      "source": [
        "02) Qual é a média, a moda e a mediana de horas de sono para cada uma\n",
        "das profissões?"
      ],
      "metadata": {
        "id": "JGE_rEIlUVdg"
      }
    },
    {
      "cell_type": "code",
      "source": [
        "# Calcular média, mediana e moda das horas de sono para cada profissão\n",
        "resultados_por_profissao = df.groupby('Profissão')['Duração do sono'].agg(['mean', 'median', lambda x: x.mode().iloc[0]])\n",
        "\n",
        "# Renomear as colunas\n",
        "resultados_por_profissao.columns = ['Média', 'Mediana', 'Moda']\n",
        "\n",
        "# Exibir os resultados\n",
        "print(resultados_por_profissao)\n"
      ],
      "metadata": {
        "colab": {
          "base_uri": "https://localhost:8080/"
        },
        "id": "cYH7hJDVUXuQ",
        "outputId": "8d20fb20-e88f-4b5e-d0af-6d9b4031d941"
      },
      "execution_count": null,
      "outputs": [
        {
          "output_type": "stream",
          "name": "stdout",
          "text": [
            "                            Média  Mediana  Moda\n",
            "Profissão                                       \n",
            "Advogado(a)              7.410638      7.3   7.2\n",
            "Cientista                6.000000      6.0   5.8\n",
            "Contador(a)              7.113514      7.2   7.2\n",
            "Enfermeiro(a)            7.048611      6.5   6.1\n",
            "Eng. de Software         6.750000      6.8   7.5\n",
            "Engenheiro(a)            7.987302      8.3   8.4\n",
            "Gerente                  6.900000      6.9   6.9\n",
            "Médico(a)                6.970423      7.6   6.0\n",
            "Pessoa Vendendora        6.403125      6.4   6.5\n",
            "Professor(a)             6.690000      6.6   6.6\n",
            "Representante de Vendas  5.900000      5.9   5.9\n"
          ]
        }
      ]
    },
    {
      "cell_type": "markdown",
      "source": [
        "03)  Das pessoas que atuam com engenharia de software qual a\n",
        "porcentagem de obesos?"
      ],
      "metadata": {
        "id": "L0MGuEmvVrzB"
      }
    },
    {
      "cell_type": "code",
      "source": [
        "# Filtrar apenas as pessoas que atuam com engenharia de software\n",
        "engenharia_software_df = df[df['Profissão'] == 'Eng. de Software']\n",
        "\n",
        "# Calcular a porcentagem de obesos\n",
        "porcentagem_obesos = (engenharia_software_df['Categoria IMC'] == 'Obesidade').mean() * 100\n",
        "\n",
        "print(f'A porcentagem de obesos em Engenharia de Software é: {porcentagem_obesos:.2f}%')"
      ],
      "metadata": {
        "colab": {
          "base_uri": "https://localhost:8080/"
        },
        "id": "UjMkU7zaWAYD",
        "outputId": "9631d289-f573-4f0e-ebe7-0cd724e957d1"
      },
      "execution_count": null,
      "outputs": [
        {
          "output_type": "stream",
          "name": "stdout",
          "text": [
            "A porcentagem de obesos em Engenharia de Software é: 25.00%\n"
          ]
        }
      ]
    },
    {
      "cell_type": "markdown",
      "source": [
        "04) De acordo com os dados, advogar ou ser representante de vendas faz\n",
        "você dormir menos? (Use o método ‘isin’, considere a média)\n"
      ],
      "metadata": {
        "id": "aArenW2-WHSM"
      }
    },
    {
      "cell_type": "code",
      "source": [
        "# Ver as profissões 'Advogado(a)' e 'Representante de Vendas'\n",
        "profissoes_interesse = ['Advogado(a)', 'Representante de Vendas']\n",
        "df_interesse = df[df['Profissão'].isin(profissoes_interesse)]\n",
        "\n",
        "# Calcular a média da coluna 'Duração do sono' para as profissões Advogado e Representante de Vendas\n",
        "media_duracao_sono = df_interesse.groupby('Profissão')['Duração do sono'].mean()\n",
        "\n",
        "print(media_duracao_sono)"
      ],
      "metadata": {
        "colab": {
          "base_uri": "https://localhost:8080/"
        },
        "id": "nDZDst9KWaSc",
        "outputId": "e7ab7164-e80c-4bab-bb5e-90eec07da792"
      },
      "execution_count": null,
      "outputs": [
        {
          "output_type": "stream",
          "name": "stdout",
          "text": [
            "Profissão\n",
            "Advogado(a)                7.410638\n",
            "Representante de Vendas    5.900000\n",
            "Name: Duração do sono, dtype: float64\n"
          ]
        }
      ]
    },
    {
      "cell_type": "markdown",
      "source": [
        "*Ser representante de vendas faz dormir menos.*"
      ],
      "metadata": {
        "id": "LJZ1pFvG50rD"
      }
    },
    {
      "cell_type": "markdown",
      "source": [
        "05) Entre quem fez enfermagem e quem fez medicina, quem tem menos\n",
        "horas de sono? (Use o método ‘isin’, considere a média)"
      ],
      "metadata": {
        "id": "TBzlhVOoYrIF"
      }
    },
    {
      "cell_type": "code",
      "source": [
        "# Filtrar linhas para quem fez enfermagem ou medicina\n",
        "enfermagem_medicina_df = df[df['Profissão'].isin(['Médico(a)','Enfermeiro(a)'])]\n",
        "\n",
        "# Calcular a média de horas de sono para cada grupo\n",
        "media_horas_sono = enfermagem_medicina_df.groupby('Profissão')['Duração do sono'].mean()\n",
        "\n",
        "# Exibir o resultado\n",
        "print(media_horas_sono)\n"
      ],
      "metadata": {
        "colab": {
          "base_uri": "https://localhost:8080/"
        },
        "id": "2gwCNNNWY-ZA",
        "outputId": "5b2dbe88-9218-4920-c432-550f43da027f"
      },
      "execution_count": null,
      "outputs": [
        {
          "output_type": "stream",
          "name": "stdout",
          "text": [
            "Profissão\n",
            "Enfermeiro(a)    7.048611\n",
            "Médico(a)        6.970423\n",
            "Name: Duração do sono, dtype: float64\n"
          ]
        }
      ]
    },
    {
      "cell_type": "markdown",
      "source": [
        "*Os Médicos tem menos horas de sono que os Enfermeiros.*"
      ],
      "metadata": {
        "id": "wuupfRsx0z8J"
      }
    },
    {
      "cell_type": "markdown",
      "source": [
        "06)  Faça um subconjunto com as colunas Identificador, Gênero, Idade,\n",
        "Pressão sanguínea e Frequência cardíaca.\n"
      ],
      "metadata": {
        "id": "4Sved8cQ1DTZ"
      }
    },
    {
      "cell_type": "code",
      "source": [
        "subconjunto_df = df[['Identificador', 'Gênero', 'Idade', 'Pressão sanguínea', 'Frequência cardíaca']]\n",
        "print(subconjunto_df.head())\n",
        "\n"
      ],
      "metadata": {
        "colab": {
          "base_uri": "https://localhost:8080/"
        },
        "id": "wOpyYk9b1mWZ",
        "outputId": "39956798-9f6d-44ad-f4f3-047d8680cc48"
      },
      "execution_count": null,
      "outputs": [
        {
          "output_type": "stream",
          "name": "stdout",
          "text": [
            "   Identificador Gênero  Idade Pressão sanguínea  Frequência cardíaca\n",
            "0              1  Homem     27            126/83                   77\n",
            "1              2  Homem     28            125/80                   75\n",
            "2              3  Homem     28            125/80                   75\n",
            "3              4  Homem     28            140/90                   85\n",
            "4              5  Homem     28            140/90                   85\n"
          ]
        }
      ]
    },
    {
      "cell_type": "markdown",
      "source": [
        "07) Descubra qual a profissão menos frequente no conjunto. (Use\n",
        "value_counts)\n"
      ],
      "metadata": {
        "id": "yk4R5dIn19r-"
      }
    },
    {
      "cell_type": "code",
      "source": [
        "# Contagem de cada profissão\n",
        "contagem_profissoes = df['Profissão'].value_counts()\n",
        "\n",
        "# Identificar a profissão menos frequente\n",
        "profissao_menos_frequente = contagem_profissoes.idxmin()\n",
        "\n",
        "# Mostrar a profissão menos frequente\n",
        "print(f'A profissão menos frequente é: {profissao_menos_frequente}')\n"
      ],
      "metadata": {
        "colab": {
          "base_uri": "https://localhost:8080/"
        },
        "id": "Jrx5zLVl2CRg",
        "outputId": "5c13064d-ff6b-4853-a52c-af14c65ad59a"
      },
      "execution_count": null,
      "outputs": [
        {
          "output_type": "stream",
          "name": "stdout",
          "text": [
            "A profissão menos frequente é: Gerente\n"
          ]
        }
      ]
    },
    {
      "cell_type": "markdown",
      "source": [
        "08)  Quem tem maior pressão sanguínea média, homens ou mulheres?\n",
        "(Considere a média)\n"
      ],
      "metadata": {
        "id": "wJoBzPca2LFY"
      }
    },
    {
      "cell_type": "code",
      "source": [
        "# Converter a coluna 'Pressão sanguínea' para valores numéricos\n",
        "df['Pressão sanguínea'] = df['Pressão sanguínea'].apply(lambda x: x.split('/')[0] if isinstance(x, str) else x).astype(float)\n",
        "\n",
        "# Calcular a média da pressão sanguínea\n",
        "media_pressao_sanguinea_por_genero = df.groupby('Gênero')['Pressão sanguínea'].mean()\n",
        "\n",
        "# Exibir o resultado\n",
        "print(media_pressao_sanguinea_por_genero)\n",
        "\n"
      ],
      "metadata": {
        "colab": {
          "base_uri": "https://localhost:8080/"
        },
        "id": "A0lvOrbf2PO5",
        "outputId": "93078ee8-deb3-48e3-8d9a-8bf2b728aae8"
      },
      "execution_count": null,
      "outputs": [
        {
          "output_type": "stream",
          "name": "stdout",
          "text": [
            "Gênero\n",
            "Homem     126.941799\n",
            "Mulher    130.146739\n",
            "Name: Pressão sanguínea, dtype: float64\n"
          ]
        }
      ]
    },
    {
      "cell_type": "markdown",
      "source": [
        "*As mulheres tem a maior média de pressão sanguínea.*"
      ],
      "metadata": {
        "id": "7GGDsRIT2oC0"
      }
    },
    {
      "cell_type": "markdown",
      "source": [
        "09) É predominante entre os participantes dormir 8 horas por dia\n",
        "(considere usar Moda como medida)?"
      ],
      "metadata": {
        "id": "SJe_8VTB2uD0"
      }
    },
    {
      "cell_type": "code",
      "source": [
        "# Calcular a moda da coluna 'Duração do sono'\n",
        "moda_duracao_sono = df['Duração do sono'].mode()\n",
        "\n",
        "# Verificar se a moda é igual a 8 horas\n",
        "predominante_oito_horas = moda_duracao_sono[0] == 8\n",
        "\n",
        "# Exibir o resultado\n",
        "print(f'É predominante dormir 8 horas por dia? {predominante_oito_horas}')\n"
      ],
      "metadata": {
        "colab": {
          "base_uri": "https://localhost:8080/"
        },
        "id": "RTbP8cr3204Z",
        "outputId": "9cad42fc-a98f-4bd4-c801-9da386f6642e"
      },
      "execution_count": null,
      "outputs": [
        {
          "output_type": "stream",
          "name": "stdout",
          "text": [
            "É predominante dormir 8 horas por dia? False\n"
          ]
        }
      ]
    },
    {
      "cell_type": "markdown",
      "source": [
        "10) Pessoas com frequências cardíacas acima de 70 dão mais passos que\n",
        "pessoas com frequência cardíaca menor ou igual a 70? (Use a média)"
      ],
      "metadata": {
        "id": "WuJacO8d282d"
      }
    },
    {
      "cell_type": "code",
      "source": [
        "# Criar uma nova coluna indicando se a frequência cardíaca é maior que 70\n",
        "df['Frequência cardíaca acima de 70'] = df['Frequência cardíaca'] > 70\n",
        "\n",
        "# Calcular a média de uma coluna relacionada ao número de passos\n",
        "media_passos_por_grupo = df.groupby('Frequência cardíaca acima de 70')['Passos diários'].mean()\n",
        "\n",
        "# Exibir o resultado\n",
        "print(media_passos_por_grupo)\n"
      ],
      "metadata": {
        "colab": {
          "base_uri": "https://localhost:8080/"
        },
        "id": "2Httd--93GK0",
        "outputId": "66133538-6fc4-43eb-c1cb-b73de7bfe75b"
      },
      "execution_count": null,
      "outputs": [
        {
          "output_type": "stream",
          "name": "stdout",
          "text": [
            "Frequência cardíaca acima de 70\n",
            "False    7006.666667\n",
            "True     6472.932331\n",
            "Name: Passos diários, dtype: float64\n"
          ]
        }
      ]
    },
    {
      "cell_type": "markdown",
      "source": [
        " *Pessosa com frquências cardíacas **abaixo** de 70 dão mais passos que pessoas com frequância cardíaca maior ou igual a 70.*"
      ],
      "metadata": {
        "id": "z7p0COIn6wY8"
      }
    }
  ]
}