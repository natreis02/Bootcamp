{
  "cells": [
    {
      "cell_type": "markdown",
      "metadata": {
        "id": "view-in-github",
        "colab_type": "text"
      },
      "source": [
        "<a href=\"https://colab.research.google.com/github/natreis02/Bootcamp/blob/main/Atividade_enem.ipynb\" target=\"_parent\"><img src=\"https://colab.research.google.com/assets/colab-badge.svg\" alt=\"Open In Colab\"/></a>"
      ]
    },
    {
      "cell_type": "code",
      "execution_count": null,
      "metadata": {
        "colab": {
          "base_uri": "https://localhost:8080/",
          "height": 73
        },
        "id": "SrgiCfc0DQwI",
        "outputId": "74137698-06b1-4a34-9a18-ae42b974546f"
      },
      "outputs": [
        {
          "data": {
            "text/html": [
              "\n",
              "     <input type=\"file\" id=\"files-832abaa1-f7a0-4fef-8394-da526b9264e1\" name=\"files[]\" multiple disabled\n",
              "        style=\"border:none\" />\n",
              "     <output id=\"result-832abaa1-f7a0-4fef-8394-da526b9264e1\">\n",
              "      Upload widget is only available when the cell has been executed in the\n",
              "      current browser session. Please rerun this cell to enable.\n",
              "      </output>\n",
              "      <script>// Copyright 2017 Google LLC\n",
              "//\n",
              "// Licensed under the Apache License, Version 2.0 (the \"License\");\n",
              "// you may not use this file except in compliance with the License.\n",
              "// You may obtain a copy of the License at\n",
              "//\n",
              "//      http://www.apache.org/licenses/LICENSE-2.0\n",
              "//\n",
              "// Unless required by applicable law or agreed to in writing, software\n",
              "// distributed under the License is distributed on an \"AS IS\" BASIS,\n",
              "// WITHOUT WARRANTIES OR CONDITIONS OF ANY KIND, either express or implied.\n",
              "// See the License for the specific language governing permissions and\n",
              "// limitations under the License.\n",
              "\n",
              "/**\n",
              " * @fileoverview Helpers for google.colab Python module.\n",
              " */\n",
              "(function(scope) {\n",
              "function span(text, styleAttributes = {}) {\n",
              "  const element = document.createElement('span');\n",
              "  element.textContent = text;\n",
              "  for (const key of Object.keys(styleAttributes)) {\n",
              "    element.style[key] = styleAttributes[key];\n",
              "  }\n",
              "  return element;\n",
              "}\n",
              "\n",
              "// Max number of bytes which will be uploaded at a time.\n",
              "const MAX_PAYLOAD_SIZE = 100 * 1024;\n",
              "\n",
              "function _uploadFiles(inputId, outputId) {\n",
              "  const steps = uploadFilesStep(inputId, outputId);\n",
              "  const outputElement = document.getElementById(outputId);\n",
              "  // Cache steps on the outputElement to make it available for the next call\n",
              "  // to uploadFilesContinue from Python.\n",
              "  outputElement.steps = steps;\n",
              "\n",
              "  return _uploadFilesContinue(outputId);\n",
              "}\n",
              "\n",
              "// This is roughly an async generator (not supported in the browser yet),\n",
              "// where there are multiple asynchronous steps and the Python side is going\n",
              "// to poll for completion of each step.\n",
              "// This uses a Promise to block the python side on completion of each step,\n",
              "// then passes the result of the previous step as the input to the next step.\n",
              "function _uploadFilesContinue(outputId) {\n",
              "  const outputElement = document.getElementById(outputId);\n",
              "  const steps = outputElement.steps;\n",
              "\n",
              "  const next = steps.next(outputElement.lastPromiseValue);\n",
              "  return Promise.resolve(next.value.promise).then((value) => {\n",
              "    // Cache the last promise value to make it available to the next\n",
              "    // step of the generator.\n",
              "    outputElement.lastPromiseValue = value;\n",
              "    return next.value.response;\n",
              "  });\n",
              "}\n",
              "\n",
              "/**\n",
              " * Generator function which is called between each async step of the upload\n",
              " * process.\n",
              " * @param {string} inputId Element ID of the input file picker element.\n",
              " * @param {string} outputId Element ID of the output display.\n",
              " * @return {!Iterable<!Object>} Iterable of next steps.\n",
              " */\n",
              "function* uploadFilesStep(inputId, outputId) {\n",
              "  const inputElement = document.getElementById(inputId);\n",
              "  inputElement.disabled = false;\n",
              "\n",
              "  const outputElement = document.getElementById(outputId);\n",
              "  outputElement.innerHTML = '';\n",
              "\n",
              "  const pickedPromise = new Promise((resolve) => {\n",
              "    inputElement.addEventListener('change', (e) => {\n",
              "      resolve(e.target.files);\n",
              "    });\n",
              "  });\n",
              "\n",
              "  const cancel = document.createElement('button');\n",
              "  inputElement.parentElement.appendChild(cancel);\n",
              "  cancel.textContent = 'Cancel upload';\n",
              "  const cancelPromise = new Promise((resolve) => {\n",
              "    cancel.onclick = () => {\n",
              "      resolve(null);\n",
              "    };\n",
              "  });\n",
              "\n",
              "  // Wait for the user to pick the files.\n",
              "  const files = yield {\n",
              "    promise: Promise.race([pickedPromise, cancelPromise]),\n",
              "    response: {\n",
              "      action: 'starting',\n",
              "    }\n",
              "  };\n",
              "\n",
              "  cancel.remove();\n",
              "\n",
              "  // Disable the input element since further picks are not allowed.\n",
              "  inputElement.disabled = true;\n",
              "\n",
              "  if (!files) {\n",
              "    return {\n",
              "      response: {\n",
              "        action: 'complete',\n",
              "      }\n",
              "    };\n",
              "  }\n",
              "\n",
              "  for (const file of files) {\n",
              "    const li = document.createElement('li');\n",
              "    li.append(span(file.name, {fontWeight: 'bold'}));\n",
              "    li.append(span(\n",
              "        `(${file.type || 'n/a'}) - ${file.size} bytes, ` +\n",
              "        `last modified: ${\n",
              "            file.lastModifiedDate ? file.lastModifiedDate.toLocaleDateString() :\n",
              "                                    'n/a'} - `));\n",
              "    const percent = span('0% done');\n",
              "    li.appendChild(percent);\n",
              "\n",
              "    outputElement.appendChild(li);\n",
              "\n",
              "    const fileDataPromise = new Promise((resolve) => {\n",
              "      const reader = new FileReader();\n",
              "      reader.onload = (e) => {\n",
              "        resolve(e.target.result);\n",
              "      };\n",
              "      reader.readAsArrayBuffer(file);\n",
              "    });\n",
              "    // Wait for the data to be ready.\n",
              "    let fileData = yield {\n",
              "      promise: fileDataPromise,\n",
              "      response: {\n",
              "        action: 'continue',\n",
              "      }\n",
              "    };\n",
              "\n",
              "    // Use a chunked sending to avoid message size limits. See b/62115660.\n",
              "    let position = 0;\n",
              "    do {\n",
              "      const length = Math.min(fileData.byteLength - position, MAX_PAYLOAD_SIZE);\n",
              "      const chunk = new Uint8Array(fileData, position, length);\n",
              "      position += length;\n",
              "\n",
              "      const base64 = btoa(String.fromCharCode.apply(null, chunk));\n",
              "      yield {\n",
              "        response: {\n",
              "          action: 'append',\n",
              "          file: file.name,\n",
              "          data: base64,\n",
              "        },\n",
              "      };\n",
              "\n",
              "      let percentDone = fileData.byteLength === 0 ?\n",
              "          100 :\n",
              "          Math.round((position / fileData.byteLength) * 100);\n",
              "      percent.textContent = `${percentDone}% done`;\n",
              "\n",
              "    } while (position < fileData.byteLength);\n",
              "  }\n",
              "\n",
              "  // All done.\n",
              "  yield {\n",
              "    response: {\n",
              "      action: 'complete',\n",
              "    }\n",
              "  };\n",
              "}\n",
              "\n",
              "scope.google = scope.google || {};\n",
              "scope.google.colab = scope.google.colab || {};\n",
              "scope.google.colab._files = {\n",
              "  _uploadFiles,\n",
              "  _uploadFilesContinue,\n",
              "};\n",
              "})(self);\n",
              "</script> "
            ],
            "text/plain": [
              "<IPython.core.display.HTML object>"
            ]
          },
          "metadata": {},
          "output_type": "display_data"
        },
        {
          "name": "stdout",
          "output_type": "stream",
          "text": [
            "Saving enem.json to enem (1).json\n"
          ]
        }
      ],
      "source": [
        "from google.colab import files\n",
        "import json\n",
        "\n",
        "# Selecionar arquivo\n",
        "uploaded = files.upload()\n",
        "\n",
        "# Ler o arquivo\n",
        "with open('enem.json', 'r') as file:\n",
        "    data = json.load(file)\n"
      ]
    },
    {
      "cell_type": "markdown",
      "metadata": {
        "id": "Ipjz-XuUD7hQ"
      },
      "source": [
        "Você é uma pesquisadora de um cursinho para estudantes que querem\n",
        "ingressar na universidade em 2025. Seu objetivo é retirar informações da\n",
        "base de dados do enem do ano anterior para alinhar melhor as estratégias do\n",
        "cursinho para cada estudante.\n",
        "O dado possui 6 colunas, 5 delas representam as disciplinas do ENEM e uma o\n",
        "gênero das pessoas que fizeram a prova. No dado existe a representação de\n",
        "1000 pessoas, sendo cada uma delas uma linha.\n",
        "\n",
        "1. Qual das disciplinas tem a maior amplitude de nota?"
      ]
    },
    {
      "cell_type": "code",
      "execution_count": null,
      "metadata": {
        "colab": {
          "base_uri": "https://localhost:8080/"
        },
        "id": "QBtr3kt58t9x",
        "outputId": "5791a602-1fcd-49c4-8f58-e0cbb20f4801"
      },
      "outputs": [
        {
          "name": "stdout",
          "output_type": "stream",
          "text": [
            "   Linguagens  Ciências humanas  Ciências da natureza  Matemática     Redação  \\\n",
            "0  585.669300        686.512178            390.482473  452.281333  546.371706   \n",
            "1  359.384608        642.084134                   NaN  412.205207  741.825256   \n",
            "2  622.732384        495.510719            443.183580  669.683401  684.515750   \n",
            "3  350.164605        602.041588            413.979810  676.608952  671.237114   \n",
            "4  384.093657        489.249140            609.758123  520.426698  744.375048   \n",
            "\n",
            "     Sexo  \n",
            "0   Homem  \n",
            "1  Mulher  \n",
            "2   Homem  \n",
            "3   Homem  \n",
            "4   Homem  \n",
            "A disciplina com a maior amplitude de nota é: Redação\n",
            "Amplitude por disciplina:\n",
            "Linguagens              517.456317\n",
            "Ciências humanas        474.019695\n",
            "Ciências da natureza    487.604568\n",
            "Matemática              488.077902\n",
            "Redação                 729.160035\n",
            "dtype: float64\n"
          ]
        }
      ],
      "source": [
        "import pandas as pd\n",
        "import json\n",
        "\n",
        "# Ler o arquivo\n",
        "with open('enem.json', 'r') as file:\n",
        "    dados_dict = json.load(file)\n",
        "\n",
        "# Converter para um DataFrame\n",
        "df = pd.DataFrame(dados_dict)\n",
        "\n",
        "# Salvar o DataFrame em CSV\n",
        "df.to_csv('dados.csv', index=False)\n",
        "print(df.head())\n",
        "\n",
        "# Calcular a amplitude de nota para cada disciplina\n",
        "amplitude_por_disciplina = df.max(numeric_only=True) - df.min(numeric_only=True)\n",
        "\n",
        "# Identificar a disciplina com a maior amplitude\n",
        "disciplina_maior_amplitude = amplitude_por_disciplina.idxmax()\n",
        "\n",
        "# Imprimir os resultados\n",
        "print(f\"A disciplina com a maior amplitude de nota é: {disciplina_maior_amplitude}\")\n",
        "print(\"Amplitude por disciplina:\")\n",
        "print(amplitude_por_disciplina)"
      ]
    },
    {
      "cell_type": "markdown",
      "metadata": {
        "id": "duPDNZFm_7lB"
      },
      "source": [
        "2. Qual é a média e a mediana para cada uma das disciplinas? (Lembre-se\n",
        "de remover todos os valores nulos quando considerar a mediana)"
      ]
    },
    {
      "cell_type": "code",
      "execution_count": null,
      "metadata": {
        "colab": {
          "base_uri": "https://localhost:8080/"
        },
        "id": "ZeRktf3o_8iB",
        "outputId": "b4c239f5-da45-415c-b88a-05bf7704eee2"
      },
      "outputs": [
        {
          "name": "stdout",
          "output_type": "stream",
          "text": [
            "Média por disciplina:\n",
            "Linguagens              514.524809\n",
            "Ciências humanas        527.042281\n",
            "Ciências da natureza    499.315583\n",
            "Matemática              535.965660\n",
            "Redação                 637.783532\n",
            "dtype: float64\n",
            "\n",
            "Mediana por disciplina (removendo valores nulos):\n",
            "Linguagens              515.045250\n",
            "Ciências humanas        524.519920\n",
            "Ciências da natureza    500.479263\n",
            "Matemática              533.247767\n",
            "Redação                 635.273973\n",
            "dtype: float64\n"
          ]
        }
      ],
      "source": [
        "# Calcular a média\n",
        "media_por_disciplina = df.mean(numeric_only=True)\n",
        "\n",
        "# Calcular a mediana\n",
        "mediana_por_disciplina = df.median(numeric_only=True)\n",
        "\n",
        "# Imprimir os resultados\n",
        "print(\"Média por disciplina:\")\n",
        "print(media_por_disciplina)\n",
        "print(\"\\nMediana por disciplina (removendo valores nulos):\")\n",
        "print(mediana_por_disciplina)"
      ]
    },
    {
      "cell_type": "markdown",
      "metadata": {
        "id": "MP6aSuIkAIUL"
      },
      "source": [
        "3. Considerando o curso de Ciência da Computação da UFPE, onde o peso\n",
        "cada uma das disciplinas ponderado:\n",
        "\n",
        "a. Redação - 2\n",
        "b. Matemática e suas Tecnologias - 4\n",
        "c. Linguagens, Códigos e suas Tecnologias - 2\n",
        "d. Ciências Humanas e suas Tecnologias - 1\n",
        "e. Ciências da Natureza e suas Tecnologias - 1\n",
        "\n",
        "Qual o desvio padrão e média das notas dos 500 estudantes mais bem\n",
        "colocados considerando esses pesos?"
      ]
    },
    {
      "cell_type": "code",
      "execution_count": null,
      "metadata": {
        "colab": {
          "base_uri": "https://localhost:8080/"
        },
        "id": "WcUZZ4VjDMBz",
        "outputId": "4f7e15d1-22b1-4752-9b9d-e8f48fb5c0cb"
      },
      "outputs": [
        {
          "name": "stdout",
          "output_type": "stream",
          "text": [
            "Colunas disponíveis no DataFrame:\n",
            "Index(['Linguagens', 'Ciências humanas', 'Ciências da natureza', 'Matemática',\n",
            "       'Redação', 'Sexo'],\n",
            "      dtype='object')\n",
            "Média das notas dos 500 estudantes mais bem colocados: 557.2896772018769\n",
            "Desvio padrão das notas dos 500 estudantes mais bem colocados: 40.435866299464266\n"
          ]
        }
      ],
      "source": [
        "# Imprimir as colunas disponíveis no DataFrame\n",
        "print(\"Colunas disponíveis no DataFrame:\")\n",
        "print(df.columns)\n",
        "\n",
        "# Definir pesos para cada disciplina\n",
        "pesos = {\n",
        "    'redacao': 2,\n",
        "    'matematica': 4,\n",
        "    'linguagens': 2,\n",
        "    'ciencias_humanas': 1,\n",
        "    'ciencias_da_natureza': 1\n",
        "}\n",
        "\n",
        "# Calcular a nota total ponderada para cada estudante\n",
        "df['nota_total_ponderada'] = (\n",
        "    df['Redação'] * pesos['redacao'] +\n",
        "    df['Matemática'] * pesos['matematica'] +\n",
        "    df['Linguagens'] * pesos['linguagens'] +\n",
        "    df['Ciências humanas'] * pesos['ciencias_humanas'] +\n",
        "    df['Ciências da natureza'] * pesos['ciencias_da_natureza']\n",
        ")  / sum(pesos.values())  # Dividir pela soma dos pesos\n",
        "\n",
        "# (substitua 500 pelo número real que representa os melhores colocados no seu conjunto de dados)\n",
        "top_500_estudantes = df.nlargest(500, 'nota_total_ponderada')\n",
        "\n",
        "media_top_500 = top_500_estudantes['nota_total_ponderada'].mean()\n",
        "desvio_padrao_top_500 = top_500_estudantes['nota_total_ponderada'].std()\n",
        "\n",
        "# Imprimir os resultados\n",
        "print(f\"Média das notas dos 500 estudantes mais bem colocados: {media_top_500}\")\n",
        "print(f\"Desvio padrão das notas dos 500 estudantes mais bem colocados: {desvio_padrao_top_500}\")\n",
        "\n"
      ]
    },
    {
      "cell_type": "markdown",
      "metadata": {
        "id": "2Szdul22DMaW"
      },
      "source": [
        "4. Se todos esses estudantes aplicassem para ciência da computação e\n",
        "existem apenas 40 vagas, qual seria a variância e média da nota dos\n",
        "estudantes que entraram no curso de ciência da computação?"
      ]
    },
    {
      "cell_type": "code",
      "execution_count": null,
      "metadata": {
        "colab": {
          "base_uri": "https://localhost:8080/"
        },
        "id": "33wzHqlqDQzP",
        "outputId": "62876974-b3cd-4ec5-e87f-5e3829024ae9"
      },
      "outputs": [
        {
          "name": "stdout",
          "output_type": "stream",
          "text": [
            "Variância da nota dos estudantes de Ciência da Computação: 295.7675036004101\n",
            "Média da nota dos estudantes de Ciência da Computação: 636.6827415075188\n"
          ]
        }
      ],
      "source": [
        "# Selecionar os top 40 estudantes\n",
        "top_40_estudantes = df.nlargest(40, 'nota_total_ponderada')\n",
        "\n",
        "# Calcular a nota total ponderada para cada estudante\n",
        "df['nota_total_ponderada'] = (\n",
        "    df['Redação'] * pesos['redacao'] +\n",
        "    df['Matemática'] * pesos['matematica'] +\n",
        "    df['Linguagens'] * pesos['linguagens'] +\n",
        "    df['Ciências humanas'] * pesos['ciencias_humanas'] +\n",
        "    df['Ciências da natureza'] * pesos['ciencias_da_natureza']\n",
        ") / sum(pesos.values())\n",
        "\n",
        "# Calcular a variância e média da nota dos estudantes de ciência da computação\n",
        "variancia_ciencia_computacao = top_40_estudantes['nota_total_ponderada'].var()\n",
        "media_ciencia_computacao = top_40_estudantes['nota_total_ponderada'].mean()\n",
        "\n",
        "# Imprimir os resultados\n",
        "print(f\"Variância da nota dos estudantes de Ciência da Computação: {variancia_ciencia_computacao}\")\n",
        "print(f\"Média da nota dos estudantes de Ciência da Computação: {media_ciencia_computacao}\")"
      ]
    },
    {
      "cell_type": "markdown",
      "metadata": {
        "id": "Lcs2qUDeDRfg"
      },
      "source": [
        "5. Qual o valor do teto do terceiro quartil para as disciplinas de\n",
        "matemática e linguagens?"
      ]
    },
    {
      "cell_type": "code",
      "execution_count": null,
      "metadata": {
        "colab": {
          "base_uri": "https://localhost:8080/"
        },
        "id": "n2-Yt9aFDVWu",
        "outputId": "3b80c573-01c0-497c-e729-ea4c3216e3db"
      },
      "outputs": [
        {
          "name": "stdout",
          "output_type": "stream",
          "text": [
            "Teto do terceiro quartil para Matemática: 592.7176584004\n",
            "Teto do terceiro quartil para Linguagens: 571.6358759278\n"
          ]
        }
      ],
      "source": [
        "import numpy as np\n",
        "\n",
        "# Calcular o terceiro quartil para Matemática\n",
        "q3_matematica = df['Matemática'].quantile(0.75)\n",
        "\n",
        "# Calcular o teto do terceiro quartil para Matemática\n",
        "teto_q3_matematica = df['Matemática'][df['Matemática'] <= q3_matematica].max()\n",
        "\n",
        "# Calcular o terceiro quartil Linguagens\n",
        "q3_linguagens = df['Linguagens'].quantile(0.75)\n",
        "\n",
        "# Calcular o teto do terceiro quartil  Linguagens\n",
        "teto_q3_linguagens = df['Linguagens'][df['Linguagens'] <= q3_linguagens].max()\n",
        "\n",
        "# Imprimir os resultados\n",
        "print(f\"Teto do terceiro quartil para Matemática: {teto_q3_matematica}\")\n",
        "print(f\"Teto do terceiro quartil para Linguagens: {teto_q3_linguagens}\")\n",
        "\n"
      ]
    },
    {
      "cell_type": "markdown",
      "metadata": {
        "id": "Me5dcFI6Dbeg"
      },
      "source": [
        "6. Faça o histograma de Redação e Linguagens, de 20 em 20 pontos.\n",
        "Podemos dizer que são histogramas simétricos, justifique e classifique\n",
        "se não assimétricas?\n"
      ]
    },
    {
      "cell_type": "code",
      "execution_count": null,
      "metadata": {
        "colab": {
          "base_uri": "https://localhost:8080/",
          "height": 1000
        },
        "id": "xmuP4_gvDcR1",
        "outputId": "49c480b6-321f-412b-febb-5090af1185da"
      },
      "outputs": [
        {
          "data": {
            "image/png": "[encoded data removed]",
            "text/plain": [
              "<Figure size 1000x600 with 1 Axes>"
            ]
          },
          "metadata": {},
          "output_type": "display_data"
        },
        {
          "data": {
            "image/png": "[encoded data removed]",
            "text/plain": [
              "<Figure size 1000x600 with 1 Axes>"
            ]
          },
          "metadata": {},
          "output_type": "display_data"
        }
      ],
      "source": [
        "import matplotlib.pyplot as plt\n",
        "\n",
        "# Histograma Redação\n",
        "plt.figure(figsize=(10, 6))\n",
        "plt.hist(df['Redação'], bins=range(0, 1001, 20), edgecolor='black')\n",
        "plt.title('Histograma de Redação')\n",
        "plt.xlabel('Pontuação')\n",
        "plt.ylabel('Frequência')\n",
        "plt.grid(True)\n",
        "plt.show()\n",
        "\n",
        "# Histograma Linguagens\n",
        "plt.figure(figsize=(10, 6))\n",
        "plt.hist(df['Linguagens'], bins=range(0, 1001, 20), edgecolor='black')\n",
        "plt.title('Histograma de Linguagens')\n",
        "plt.xlabel('Pontuação')\n",
        "plt.ylabel('Frequência')\n",
        "plt.grid(True)\n",
        "plt.show()\n",
        "\n"
      ]
    },
    {
      "cell_type": "markdown",
      "metadata": {
        "id": "orflvVVC1ozt"
      },
      "source": [
        "**Aparentemente os histogramas são simétricos visualmente, pois as frequências à direita e à esquerda do ponto central são aproximadamentes iguais.**"
      ]
    },
    {
      "cell_type": "markdown",
      "metadata": {
        "id": "uNSWCvTHDctU"
      },
      "source": [
        "7. Agora coloque um range fixo de 0 até 1000, você ainda tem a mesma\n",
        "opinião quanto a simetria? [plt.hist(dado, bins=_, range=[0, 1000])"
      ]
    },
    {
      "cell_type": "code",
      "execution_count": null,
      "metadata": {
        "colab": {
          "base_uri": "https://localhost:8080/",
          "height": 480
        },
        "id": "w8XtUEYnDgLB",
        "outputId": "6d051bf4-a8c9-4af7-c234-1fe7cdc17cf4"
      },
      "outputs": [
        {
          "data": {
            "image/png": "[encoded data removed]",
            "text/plain": [
              "<Figure size 640x480 with 1 Axes>"
            ]
          },
          "metadata": {},
          "output_type": "display_data"
        }
      ],
      "source": [
        "import matplotlib.pyplot as plt\n",
        "\n",
        "# Dados de Redação e Linguagens\n",
        "dados_redacao = df['Redação']\n",
        "dados_linguagens = df['Linguagens']\n",
        "\n",
        "# Configurações para o histograma\n",
        "bins = range(0, 1001, 20)\n",
        "range_ = [0, 1000]\n",
        "\n",
        "# Histogramas\n",
        "plt.hist(dados_redacao, bins=bins, range=range_, alpha=0.5, label='Redação')\n",
        "plt.hist(dados_linguagens, bins=bins, range=range_, alpha=0.5, label='Linguagens')\n",
        "\n",
        "# Legendas\n",
        "plt.xlabel('Nota')\n",
        "plt.ylabel('Frequência')\n",
        "plt.title('Histogramas de Redação e Linguagens')\n",
        "plt.legend()\n",
        "\n",
        "# Exibir o gráfico\n",
        "plt.show()\n"
      ]
    },
    {
      "cell_type": "markdown",
      "metadata": {
        "id": "9ZvZie3o2kfo"
      },
      "source": [
        "**Não, pois a distribuição em ambos os lados agora estão mais desiguais.**"
      ]
    },
    {
      "cell_type": "markdown",
      "metadata": {
        "id": "qiN0XpzB_vVQ"
      },
      "source": [
        "8. Faça um boxplot do quartil de todas as disciplinas de ciências da\n",
        "natureza e redação. É possível enxergar outliers? Utilize o método IQR."
      ]
    },
    {
      "cell_type": "code",
      "execution_count": null,
      "metadata": {
        "colab": {
          "base_uri": "https://localhost:8080/",
          "height": 573
        },
        "id": "PDRErpVADkyx",
        "outputId": "ae1fd135-de43-43ed-b4f5-cfa665c71827"
      },
      "outputs": [
        {
          "data": {
            "image/png": "[encoded data removed]",
            "text/plain": [
              "<Figure size 1000x600 with 1 Axes>"
            ]
          },
          "metadata": {},
          "output_type": "display_data"
        }
      ],
      "source": [
        "import seaborn as sns\n",
        "import matplotlib.pyplot as plt\n",
        "\n",
        "# Dados de Ciências da Natureza e Redação\n",
        "dados_ciencias_natureza = df['Ciências da natureza']\n",
        "dados_redacao = df['Redação']\n",
        "\n",
        "# Criar um DataFrame com as duas disciplinas\n",
        "df_ciencias_redacao = df[['Ciências da natureza', 'Redação']]\n",
        "\n",
        "sns.set(style=\"whitegrid\")\n",
        "\n",
        "# Criar o boxplot\n",
        "plt.figure(figsize=(10, 6))\n",
        "sns.boxplot(x=\"variable\", y=\"value\", data=pd.melt(df_ciencias_redacao))\n",
        "\n",
        "# Títulos\n",
        "plt.xlabel('Disciplina')\n",
        "plt.ylabel('Nota')\n",
        "plt.title('Boxplot de Ciências da Natureza e Redação')\n",
        "\n",
        "# Exibir o gráfico\n",
        "plt.show()\n"
      ]
    },
    {
      "cell_type": "markdown",
      "metadata": {
        "id": "sV41F7nj3U-B"
      },
      "source": [
        "Sim, é possível observar outliers em ambos os bloxplots, que estão representados acima do limite máxima da primeira e segunda caixas, e abaixo da segunda caixa. Os outliers são as bolinhas brancas que representam os dados discrepantes dos demais dados distribuídos no"
      ]
    },
    {
      "cell_type": "markdown",
      "metadata": {
        "id": "Nla016AyDndo"
      },
      "source": [
        "9. Remova todos os outliers e verifique se eles são passíveis de alterar a\n",
        "média nacional significativamente? (considere significativamente um\n",
        "valor acima de 5%)"
      ]
    },
    {
      "cell_type": "code",
      "execution_count": null,
      "metadata": {
        "colab": {
          "base_uri": "https://localhost:8080/"
        },
        "id": "JuNNjMsNDoMr",
        "outputId": "9c3ef0d0-d176-4234-f3a4-c6e75aaf7a9f"
      },
      "outputs": [
        {
          "name": "stdout",
          "output_type": "stream",
          "text": [
            "Média nacional original: 549.6504045383381\n",
            "Média nacional sem outliers: 549.6504045383382\n",
            "Diferença percentual: 2.068348113326757e-14%\n"
          ]
        }
      ],
      "source": [
        "import pandas as pd\n",
        "\n",
        "column_name = 'nota_total_ponderada'\n",
        "\n",
        "# Calcular o IQR\n",
        "Q1 = df[column_name].quantile(0.25)\n",
        "Q3 = df[column_name].quantile(0.75)\n",
        "IQR = Q3 - Q1\n",
        "\n",
        "# Definir limites para identificar outliers\n",
        "lower_limit = Q1 - 1.5 * IQR\n",
        "upper_limit = Q3 + 1.5 * IQR\n",
        "\n",
        "# Remover outliers\n",
        "df_no_outliers = df[(df[column_name] >= lower_limit) & (df[column_name] <= upper_limit)]\n",
        "\n",
        "# Calcular a média nacional original\n",
        "media_nacional_original = df[column_name].mean()\n",
        "\n",
        "# Calcular a média nacional sem outliers\n",
        "media_nacional_sem_outliers = df_no_outliers[column_name].mean()\n",
        "\n",
        "# Calcular a diferença percentual\n",
        "diferenca_percentual = ((media_nacional_sem_outliers - media_nacional_original) / media_nacional_original) * 100\n",
        "\n",
        "# Imprimir resultados\n",
        "print(f\"Média nacional original: {media_nacional_original}\")\n",
        "print(f\"Média nacional sem outliers: {media_nacional_sem_outliers}\")\n",
        "print(f\"Diferença percentual: {diferenca_percentual}%\")\n"
      ]
    },
    {
      "cell_type": "markdown",
      "metadata": {
        "id": "o5t0srNq6xLP"
      },
      "source": [
        "**Os outliers não alteram significativamente a média geral.**"
      ]
    },
    {
      "cell_type": "markdown",
      "metadata": {
        "id": "0XpPRIZaDsP9"
      },
      "source": [
        "10. Considerando valores nulos, tente encontrar qual seria a melhor medida\n",
        "de tendência que pode substituir as notas nulas. Média, moda ou\n",
        "mediana? Substitua o valor por todos os três e diga qual delas altera\n",
        "menos a média geral e o desvio padrão"
      ]
    },
    {
      "cell_type": "code",
      "execution_count": null,
      "metadata": {
        "colab": {
          "background_save": true,
          "base_uri": "https://localhost:8080/"
        },
        "id": "ZnTZEWrmDtTI",
        "outputId": "ffa9a07d-5840-499f-c02d-17cfa4bc7ccf"
      },
      "outputs": [
        {
          "name": "stdout",
          "output_type": "stream",
          "text": [
            "Resultados Iniciais:\n",
            "             Disciplina       Média     Mediana        Moda\n",
            "0            Linguagens  514.524809  514.524809  514.524809\n",
            "1      Ciências humanas  527.042281  527.042281  527.042281\n",
            "2  Ciências da natureza  499.315583  499.315583  499.315583\n",
            "3            Matemática  535.965660  535.965660  535.965660\n",
            "4               Redação  637.783532  637.783532  637.783532\n",
            "\n",
            "Resultados Finais:\n",
            "  Substituindo por  Desvio Padrão Geral\n",
            "0            Média             46.15044\n",
            "1          Mediana             46.15044\n",
            "2             Moda             46.15044\n"
          ]
        }
      ],
      "source": [
        "import pandas as pd\n",
        "\n",
        "\n",
        "# Selecionar as colunas\n",
        "disciplinas = ['Linguagens', 'Ciências humanas', 'Ciências da natureza', 'Matemática', 'Redação']\n",
        "\n",
        "# Calcular a média, mediana e moda para cada disciplina\n",
        "resultados_disciplinas = {'Disciplina': [], 'Média': [], 'Mediana': [], 'Moda': []}\n",
        "\n",
        "for disciplina in disciplinas:\n",
        "    resultados_disciplina = {'Disciplina': disciplina}\n",
        "    resultados_disciplina['Média'] = df[disciplina].mean()\n",
        "    resultados_disciplina['Mediana'] = df[disciplina].median()\n",
        "    moda = df[disciplina].mode()\n",
        "    resultados_disciplina['Moda'] = moda.iloc[0] if not moda.empty else None\n",
        "\n",
        "    # Armazenar os resultados para a disciplina atual\n",
        "    resultados_disciplinas['Disciplina'].append(resultados_disciplina['Disciplina'])\n",
        "    resultados_disciplinas['Média'].append(resultados_disciplina['Média'])\n",
        "    resultados_disciplinas['Mediana'].append(resultados_disciplina['Mediana'])\n",
        "    resultados_disciplinas['Moda'].append(resultados_disciplina['Moda'])\n",
        "\n",
        "# Criar um DataFrame\n",
        "df_resultados_disciplinas = pd.DataFrame(resultados_disciplinas)\n",
        "\n",
        "# Imprimir os resultados iniciais\n",
        "print(\"Resultados Iniciais:\")\n",
        "print(df_resultados_disciplinas)\n",
        "\n",
        "# Substituir valores nulos por média, mediana e moda e calcular desvio padrão geral\n",
        "resultados_gerais = {'Substituindo por': [], 'Desvio Padrão Geral': []}\n",
        "\n",
        "for substituicao in ['Média', 'Mediana', 'Moda']:\n",
        "    df_substituido = df.copy()\n",
        "    for disciplina in disciplinas:\n",
        "        valor_substituicao = df_resultados_disciplinas.loc[df_resultados_disciplinas['Disciplina'] == disciplina, substituicao].values[0]\n",
        "        df_substituido[disciplina].fillna(valor_substituicao, inplace=True)\n",
        "\n",
        "    # Calcular desvio padrão geral\n",
        "    desvio_padrao_geral = df_substituido['nota_total_ponderada'].std()\n",
        "\n",
        "    # Armazenar os resultados\n",
        "    resultados_gerais['Substituindo por'].append(substituicao)\n",
        "    resultados_gerais['Desvio Padrão Geral'].append(desvio_padrao_geral)\n",
        "\n",
        "# Criar um DataFrame com os resultados gerais\n",
        "df_resultados_gerais = pd.DataFrame(resultados_gerais)\n",
        "\n",
        "# Imprimir os resultados finais\n",
        "print(\"\\nResultados Finais:\")\n",
        "print(df_resultados_gerais)\n"
      ]
    }
  ],
  "metadata": {
    "colab": {
      "provenance": [],
      "authorship_tag": "ABX9TyPzMP1y16DWMFzzMlRx+bVQ",
      "include_colab_link": true
    },
    "kernelspec": {
      "display_name": "Python 3",
      "name": "python3"
    },
    "language_info": {
      "name": "python"
    }
  },
  "nbformat": 4,
  "nbformat_minor": 0
}